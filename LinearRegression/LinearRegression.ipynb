{
 "cells": [
  {
   "cell_type": "code",
   "execution_count": 1,
   "metadata": {},
   "outputs": [],
   "source": [
    "%matplotlib inline\n",
    "import numpy as np\n",
    "import pandas as pd\n",
    "import matplotlib.pyplot as plt"
   ]
  },
  {
   "cell_type": "markdown",
   "metadata": {},
   "source": [
    "## 1.1 Data Description"
   ]
  },
  {
   "cell_type": "code",
   "execution_count": 2,
   "metadata": {},
   "outputs": [
    {
     "name": "stdout",
     "output_type": "stream",
     "text": [
      "imports-85.names\n"
     ]
    }
   ],
   "source": [
    "\"\"\"\n",
    "1. Title: 1985 Auto Imports Database\n",
    "\n",
    "2. Source Information:\n",
    "   -- Creator/Donor: Jeffrey C. Schlimmer (Jeffrey.Schlimmer@a.gp.cs.cmu.edu)\n",
    "   -- Date: 19 May 1987\n",
    "   -- Sources:\n",
    "     1) 1985 Model Import Car and Truck Specifications, 1985 Ward's\n",
    "        Automotive Yearbook.\n",
    "     2) Personal Auto Manuals, Insurance Services Office, 160 Water\n",
    "        Street, New York, NY 10038 \n",
    "     3) Insurance Collision Report, Insurance Institute for Highway\n",
    "        Safety, Watergate 600, Washington, DC 20037\n",
    "\n",
    "3. Past Usage:\n",
    "   -- Kibler,~D., Aha,~D.~W., \\& Albert,~M. (1989).  Instance-based prediction\n",
    "      of real-valued attributes.  {\\it Computational Intelligence}, {\\it 5},\n",
    "      51--57.\n",
    "\t -- Predicted price of car using all numeric and Boolean attributes\n",
    "\t -- Method: an instance-based learning (IBL) algorithm derived from a\n",
    "\t    localized k-nearest neighbor algorithm.  Compared with a\n",
    "\t    linear regression prediction...so all instances\n",
    "\t    with missing attribute values were discarded.  This resulted with\n",
    "\t    a training set of 159 instances, which was also used as a test\n",
    "\t    set (minus the actual instance during testing).\n",
    "\t -- Results: Percent Average Deviation Error of Prediction from Actual\n",
    "\t    -- 11.84% for the IBL algorithm\n",
    "\t    -- 14.12% for the resulting linear regression equation\n",
    "\n",
    "4. Relevant Information:\n",
    "   -- Description\n",
    "      This data set consists of three types of entities: (a) the\n",
    "      specification of an auto in terms of various characteristics, (b)\n",
    "      its assigned insurance risk rating, (c) its normalized losses in use\n",
    "      as compared to other cars.  The second rating corresponds to the\n",
    "      degree to which the auto is more risky than its price indicates.\n",
    "      Cars are initially assigned a risk factor symbol associated with its\n",
    "      price.   Then, if it is more risky (or less), this symbol is\n",
    "      adjusted by moving it up (or down) the scale.  Actuarians call this\n",
    "      process \"symboling\".  A value of +3 indicates that the auto is\n",
    "      risky, -3 that it is probably pretty safe.\n",
    "\n",
    "      The third factor is the relative average loss payment per insured\n",
    "      vehicle year.  This value is normalized for all autos within a\n",
    "      particular size classification (two-door small, station wagons,\n",
    "      sports/speciality, etc...), and represents the average loss per car\n",
    "      per year.\n",
    "\n",
    "   -- Note: Several of the attributes in the database could be used as a\n",
    "            \"class\" attribute.\n",
    "\n",
    "5. Number of Instances: 205\n",
    "\n",
    "6. Number of Attributes: 26 total\n",
    "   -- 15 continuous\n",
    "   -- 1 integer\n",
    "   -- 10 nominal\n",
    "\n",
    "7. Attribute Information:     \n",
    "     Attribute:                Attribute Range:\n",
    "     ------------------        -----------------------------------------------\n",
    "  1. symboling:                -3, -2, -1, 0, 1, 2, 3.\n",
    "  2. normalized-losses:        continuous from 65 to 256.\n",
    "  3. make:                     alfa-romero, audi, bmw, chevrolet, dodge, honda,\n",
    "                               isuzu, jaguar, mazda, mercedes-benz, mercury,\n",
    "                               mitsubishi, nissan, peugot, plymouth, porsche,\n",
    "                               renault, saab, subaru, toyota, volkswagen, volvo\n",
    "  4. fuel-type:                diesel, gas.\n",
    "  5. aspiration:               std, turbo.\n",
    "  6. num-of-doors:             four, two.\n",
    "  7. body-style:               hardtop, wagon, sedan, hatchback, convertible.\n",
    "  8. drive-wheels:             4wd, fwd, rwd.\n",
    "  9. engine-location:          front, rear.\n",
    " 10. wheel-base:               continuous from 86.6 120.9.\n",
    " 11. length:                   continuous from 141.1 to 208.1.\n",
    " 12. width:                    continuous from 60.3 to 72.3.\n",
    " 13. height:                   continuous from 47.8 to 59.8.\n",
    " 14. curb-weight:              continuous from 1488 to 4066.\n",
    " 15. engine-type:              dohc, dohcv, l, ohc, ohcf, ohcv, rotor.\n",
    " 16. num-of-cylinders:         eight, five, four, six, three, twelve, two.\n",
    " 17. engine-size:              continuous from 61 to 326.\n",
    " 18. fuel-system:              1bbl, 2bbl, 4bbl, idi, mfi, mpfi, spdi, spfi.\n",
    " 19. bore:                     continuous from 2.54 to 3.94.\n",
    " 20. stroke:                   continuous from 2.07 to 4.17.\n",
    " 21. compression-ratio:        continuous from 7 to 23.\n",
    " 22. horsepower:               continuous from 48 to 288.\n",
    " 23. peak-rpm:                 continuous from 4150 to 6600.\n",
    " 24. city-mpg:                 continuous from 13 to 49.\n",
    " 25. highway-mpg:              continuous from 16 to 54.\n",
    " 26. price:                    continuous from 5118 to 45400.\n",
    "\n",
    "8. Missing Attribute Values: (denoted by \"?\")\n",
    "   Attribute #:   Number of instances missing a value:\n",
    "   2.             41\n",
    "   6.             2\n",
    "   19.            4\n",
    "   20.            4\n",
    "   22.            2\n",
    "   23.            2\n",
    "   26.            4\n",
    "\"\"\"\n",
    "print(\"imports-85.names\")"
   ]
  },
  {
   "cell_type": "code",
   "execution_count": 3,
   "metadata": {},
   "outputs": [],
   "source": [
    "# imports-85.data\n",
    "# \n",
    "\n",
    "columns = [\"symboling\", \"normalized-losses\", \"make\", \"fuel-type\", \"aspiration\",\n",
    "           \"num-of-doors\", \"body-style\", \"drive-wheels\", \"engine-location\", \"wheel-base\", \n",
    "           \"length\", \"width\", \"height\", \"curb-weight\", \"engine-type\", \n",
    "           \"num-of-cylinders\", \"engine-size\", \"fuel-system\", \"bore\", \"stroke\", \n",
    "           \"compression-ratio\", \"hoursepower\", \"peak-rpm\", \"city-mpg\", \"highway-mpg\", \n",
    "           \"price\"]\n",
    "\n",
    "df = pd.read_csv('./imports-85.data', names=columns, na_values='?')\n",
    "df = df.dropna()"
   ]
  },
  {
   "cell_type": "code",
   "execution_count": 4,
   "metadata": {},
   "outputs": [
    {
     "name": "stdout",
     "output_type": "stream",
     "text": [
      "<class 'pandas.core.frame.DataFrame'>\n",
      "Int64Index: 159 entries, 3 to 204\n",
      "Data columns (total 26 columns):\n",
      "symboling            159 non-null int64\n",
      "normalized-losses    159 non-null float64\n",
      "make                 159 non-null object\n",
      "fuel-type            159 non-null object\n",
      "aspiration           159 non-null object\n",
      "num-of-doors         159 non-null object\n",
      "body-style           159 non-null object\n",
      "drive-wheels         159 non-null object\n",
      "engine-location      159 non-null object\n",
      "wheel-base           159 non-null float64\n",
      "length               159 non-null float64\n",
      "width                159 non-null float64\n",
      "height               159 non-null float64\n",
      "curb-weight          159 non-null int64\n",
      "engine-type          159 non-null object\n",
      "num-of-cylinders     159 non-null object\n",
      "engine-size          159 non-null int64\n",
      "fuel-system          159 non-null object\n",
      "bore                 159 non-null float64\n",
      "stroke               159 non-null float64\n",
      "compression-ratio    159 non-null float64\n",
      "hoursepower          159 non-null float64\n",
      "peak-rpm             159 non-null float64\n",
      "city-mpg             159 non-null int64\n",
      "highway-mpg          159 non-null int64\n",
      "price                159 non-null float64\n",
      "dtypes: float64(11), int64(5), object(10)\n",
      "memory usage: 33.5+ KB\n"
     ]
    }
   ],
   "source": [
    "df.info()"
   ]
  },
  {
   "cell_type": "code",
   "execution_count": 5,
   "metadata": {},
   "outputs": [
    {
     "data": {
      "text/html": [
       "<div>\n",
       "<style scoped>\n",
       "    .dataframe tbody tr th:only-of-type {\n",
       "        vertical-align: middle;\n",
       "    }\n",
       "\n",
       "    .dataframe tbody tr th {\n",
       "        vertical-align: top;\n",
       "    }\n",
       "\n",
       "    .dataframe thead th {\n",
       "        text-align: right;\n",
       "    }\n",
       "</style>\n",
       "<table border=\"1\" class=\"dataframe\">\n",
       "  <thead>\n",
       "    <tr style=\"text-align: right;\">\n",
       "      <th></th>\n",
       "      <th>symboling</th>\n",
       "      <th>normalized-losses</th>\n",
       "      <th>make</th>\n",
       "      <th>fuel-type</th>\n",
       "      <th>aspiration</th>\n",
       "      <th>num-of-doors</th>\n",
       "      <th>body-style</th>\n",
       "      <th>drive-wheels</th>\n",
       "      <th>engine-location</th>\n",
       "      <th>wheel-base</th>\n",
       "      <th>...</th>\n",
       "      <th>engine-size</th>\n",
       "      <th>fuel-system</th>\n",
       "      <th>bore</th>\n",
       "      <th>stroke</th>\n",
       "      <th>compression-ratio</th>\n",
       "      <th>hoursepower</th>\n",
       "      <th>peak-rpm</th>\n",
       "      <th>city-mpg</th>\n",
       "      <th>highway-mpg</th>\n",
       "      <th>price</th>\n",
       "    </tr>\n",
       "  </thead>\n",
       "  <tbody>\n",
       "    <tr>\n",
       "      <td>3</td>\n",
       "      <td>2</td>\n",
       "      <td>164.0</td>\n",
       "      <td>audi</td>\n",
       "      <td>gas</td>\n",
       "      <td>std</td>\n",
       "      <td>four</td>\n",
       "      <td>sedan</td>\n",
       "      <td>fwd</td>\n",
       "      <td>front</td>\n",
       "      <td>99.8</td>\n",
       "      <td>...</td>\n",
       "      <td>109</td>\n",
       "      <td>mpfi</td>\n",
       "      <td>3.19</td>\n",
       "      <td>3.4</td>\n",
       "      <td>10.0</td>\n",
       "      <td>102.0</td>\n",
       "      <td>5500.0</td>\n",
       "      <td>24</td>\n",
       "      <td>30</td>\n",
       "      <td>13950.0</td>\n",
       "    </tr>\n",
       "    <tr>\n",
       "      <td>4</td>\n",
       "      <td>2</td>\n",
       "      <td>164.0</td>\n",
       "      <td>audi</td>\n",
       "      <td>gas</td>\n",
       "      <td>std</td>\n",
       "      <td>four</td>\n",
       "      <td>sedan</td>\n",
       "      <td>4wd</td>\n",
       "      <td>front</td>\n",
       "      <td>99.4</td>\n",
       "      <td>...</td>\n",
       "      <td>136</td>\n",
       "      <td>mpfi</td>\n",
       "      <td>3.19</td>\n",
       "      <td>3.4</td>\n",
       "      <td>8.0</td>\n",
       "      <td>115.0</td>\n",
       "      <td>5500.0</td>\n",
       "      <td>18</td>\n",
       "      <td>22</td>\n",
       "      <td>17450.0</td>\n",
       "    </tr>\n",
       "    <tr>\n",
       "      <td>6</td>\n",
       "      <td>1</td>\n",
       "      <td>158.0</td>\n",
       "      <td>audi</td>\n",
       "      <td>gas</td>\n",
       "      <td>std</td>\n",
       "      <td>four</td>\n",
       "      <td>sedan</td>\n",
       "      <td>fwd</td>\n",
       "      <td>front</td>\n",
       "      <td>105.8</td>\n",
       "      <td>...</td>\n",
       "      <td>136</td>\n",
       "      <td>mpfi</td>\n",
       "      <td>3.19</td>\n",
       "      <td>3.4</td>\n",
       "      <td>8.5</td>\n",
       "      <td>110.0</td>\n",
       "      <td>5500.0</td>\n",
       "      <td>19</td>\n",
       "      <td>25</td>\n",
       "      <td>17710.0</td>\n",
       "    </tr>\n",
       "    <tr>\n",
       "      <td>8</td>\n",
       "      <td>1</td>\n",
       "      <td>158.0</td>\n",
       "      <td>audi</td>\n",
       "      <td>gas</td>\n",
       "      <td>turbo</td>\n",
       "      <td>four</td>\n",
       "      <td>sedan</td>\n",
       "      <td>fwd</td>\n",
       "      <td>front</td>\n",
       "      <td>105.8</td>\n",
       "      <td>...</td>\n",
       "      <td>131</td>\n",
       "      <td>mpfi</td>\n",
       "      <td>3.13</td>\n",
       "      <td>3.4</td>\n",
       "      <td>8.3</td>\n",
       "      <td>140.0</td>\n",
       "      <td>5500.0</td>\n",
       "      <td>17</td>\n",
       "      <td>20</td>\n",
       "      <td>23875.0</td>\n",
       "    </tr>\n",
       "    <tr>\n",
       "      <td>10</td>\n",
       "      <td>2</td>\n",
       "      <td>192.0</td>\n",
       "      <td>bmw</td>\n",
       "      <td>gas</td>\n",
       "      <td>std</td>\n",
       "      <td>two</td>\n",
       "      <td>sedan</td>\n",
       "      <td>rwd</td>\n",
       "      <td>front</td>\n",
       "      <td>101.2</td>\n",
       "      <td>...</td>\n",
       "      <td>108</td>\n",
       "      <td>mpfi</td>\n",
       "      <td>3.50</td>\n",
       "      <td>2.8</td>\n",
       "      <td>8.8</td>\n",
       "      <td>101.0</td>\n",
       "      <td>5800.0</td>\n",
       "      <td>23</td>\n",
       "      <td>29</td>\n",
       "      <td>16430.0</td>\n",
       "    </tr>\n",
       "  </tbody>\n",
       "</table>\n",
       "<p>5 rows × 26 columns</p>\n",
       "</div>"
      ],
      "text/plain": [
       "    symboling  normalized-losses  make fuel-type aspiration num-of-doors  \\\n",
       "3           2              164.0  audi       gas        std         four   \n",
       "4           2              164.0  audi       gas        std         four   \n",
       "6           1              158.0  audi       gas        std         four   \n",
       "8           1              158.0  audi       gas      turbo         four   \n",
       "10          2              192.0   bmw       gas        std          two   \n",
       "\n",
       "   body-style drive-wheels engine-location  wheel-base  ...  engine-size  \\\n",
       "3       sedan          fwd           front        99.8  ...          109   \n",
       "4       sedan          4wd           front        99.4  ...          136   \n",
       "6       sedan          fwd           front       105.8  ...          136   \n",
       "8       sedan          fwd           front       105.8  ...          131   \n",
       "10      sedan          rwd           front       101.2  ...          108   \n",
       "\n",
       "    fuel-system  bore  stroke compression-ratio hoursepower  peak-rpm  \\\n",
       "3          mpfi  3.19     3.4              10.0       102.0    5500.0   \n",
       "4          mpfi  3.19     3.4               8.0       115.0    5500.0   \n",
       "6          mpfi  3.19     3.4               8.5       110.0    5500.0   \n",
       "8          mpfi  3.13     3.4               8.3       140.0    5500.0   \n",
       "10         mpfi  3.50     2.8               8.8       101.0    5800.0   \n",
       "\n",
       "   city-mpg  highway-mpg    price  \n",
       "3        24           30  13950.0  \n",
       "4        18           22  17450.0  \n",
       "6        19           25  17710.0  \n",
       "8        17           20  23875.0  \n",
       "10       23           29  16430.0  \n",
       "\n",
       "[5 rows x 26 columns]"
      ]
     },
     "execution_count": 5,
     "metadata": {},
     "output_type": "execute_result"
    }
   ],
   "source": [
    "df.head()"
   ]
  },
  {
   "cell_type": "markdown",
   "metadata": {},
   "source": [
    "## 1.2 Linear Regression(engine-size vs city-mpg)"
   ]
  },
  {
   "cell_type": "code",
   "execution_count": 6,
   "metadata": {},
   "outputs": [
    {
     "data": {
      "text/plain": [
       "[<matplotlib.lines.Line2D at 0x117ea4590>]"
      ]
     },
     "execution_count": 6,
     "metadata": {},
     "output_type": "execute_result"
    },
    {
     "data": {
      "image/png": "[encoded data removed]",
      "text/plain": [
       "<Figure size 432x288 with 1 Axes>"
      ]
     },
     "metadata": {
      "needs_background": "light"
     },
     "output_type": "display_data"
    }
   ],
   "source": [
    "# y = \"city-mpg\"\n",
    "# x = \"engine-size\"\n",
    "def LEARN_SIMPLE_LINREG(data):\n",
    "    \n",
    "    m_x, m_y = data.mean(axis=0)\n",
    "    numerator = 0\n",
    "    denominator = 0\n",
    "    for i in range(len(data)):\n",
    "        numerator += (data[i,0]-m_x)*(data[i,1]-m_y)\n",
    "        denominator += (data[i,0]-m_x)**2\n",
    "    \n",
    "    beta1 = numerator/denominator\n",
    "    beta0 = m_y - beta1*m_x\n",
    "    \n",
    "    return beta0, beta1\n",
    "\n",
    "def PREDICT_SIMPLE_LINREG(x, beta0, beta1):\n",
    "    \n",
    "    y_pred = beta0 + beta1*x\n",
    "    \n",
    "    return y_pred\n",
    "\n",
    "A = df[[\"engine-size\", \"city-mpg\"]].to_numpy()\n",
    "b0, b1 = LEARN_SIMPLE_LINREG(A)\n",
    "y_prediction = PREDICT_SIMPLE_LINREG(A[:,0], b0, b1)\n",
    "\n",
    "plt.scatter(A[:,0],A[:,1])\n",
    "plt.plot(A[:,0], y_prediction, 'r')"
   ]
  },
  {
   "cell_type": "markdown",
   "metadata": {},
   "source": [
    "## 1.3 Split the data into train(80%) and test(20%) sets\n",
    "\n",
    "First of all, the row data are shuffled in order to eliminate the potential of biases or patterns by sample(frac=1). Next, we can split the data into train(x_train, y_train) and test(x_test, y_test) sets. to,numpy() is to convert the dataframe into the numpy array for matrix calculations."
   ]
  },
  {
   "cell_type": "code",
   "execution_count": 7,
   "metadata": {},
   "outputs": [],
   "source": [
    "features = [\"wheel-base\", \"length\", \"width\", \"curb-weight\", \"engine-size\", \n",
    "            \"bore\", \"hoursepower\", \"city-mpg\", \"highway-mpg\", \"price\"]\n",
    "df = df[features]"
   ]
  },
  {
   "cell_type": "code",
   "execution_count": 8,
   "metadata": {
    "scrolled": true
   },
   "outputs": [],
   "source": [
    "# Shuffling\n",
    "df = df.sample(frac=1)\n",
    "\n",
    "# Split data set into train(80%) and test(20%) sets\n",
    "num_train = int(len(df)*0.8)\n",
    "train_set = df[:num_train]\n",
    "test_set = df[num_train:]\n",
    "\n",
    "y_train = train_set[\"price\"].to_numpy()\n",
    "x_train = train_set.drop([\"price\"], axis=1).to_numpy()\n",
    "y_test = test_set[\"price\"].to_numpy()\n",
    "x_test = test_set.drop([\"price\"], axis=1).to_numpy()"
   ]
  },
  {
   "cell_type": "markdown",
   "metadata": {},
   "source": [
    "## 1.4 Linear Regression via Normal Equations\n",
    "In my learn-linreg-NormEq function, we can select a method out of three options.(Gaussian elimination, QR decomposition and np.linalg.solve as a numpy library function. First of all, we can make a square matrix A by np.matmul(X.T, X) so X*beta = y is equivalent to A*beta = b. However, the determinant of A must not be 0 to get a unique solution of the equation. Therefore, we have to check the np.linalg.det(A).\n",
    "\n",
    "### - Gaussian_elimination(A, b)\n",
    "First, we can create a matrix C to conduct Gaussian_elimination as a form of the below called row echelon form. Next, we have to check if C[i,i] == 0 because C[i,i] have to become 1. Thus, we can interchange the row and a row which has nonzero C[k,i] if C[i,i] == 0. Finally, we can calculate the rows based on the rule of Gaussian elimination. Therefore, A*beta=b becomes Identity matrix E*beta=b*, that is beta=b*.\n",
    "\n",
    "### - QR_decomposition(A, b)\n",
    "In order to obtain Q and R matrices, we have to implement Gram-Schmidt process. This process is very useful to calculate matrices because the inverse of Q is equivalent to the transpose of Q(Q is an orthogonal matrix). That is, **A\\*beta=b -> QR\\*beta=b -> R\\*beta= Q.T\\*b -> beta = inv(R)\\*Q.T\\*b**\n",
    "\n",
    "### - numpy library np.linalg.solve(A, b)\n",
    "np.linalg.solve(A, b) is used for checking the solution.\n",
    " "
   ]
  },
  {
   "cell_type": "code",
   "execution_count": 9,
   "metadata": {},
   "outputs": [],
   "source": [
    "## Our options\n",
    "def Gaussian_elimination(A, b):\n",
    "    \n",
    "    C = np.concatenate((A, b.reshape(-1,1)), axis=1)\n",
    "    \n",
    "    for i in range(len(C)):\n",
    "        \n",
    "        for k in np.arange(i,len(C)):\n",
    "                \n",
    "            if C[i,i] == 0:\n",
    "                tmp = C[i,:]\n",
    "                C[i,:] = C[k,:]\n",
    "                C[k,:] = tmp\n",
    "            else:\n",
    "                break\n",
    "        \n",
    "        C[i,:] = C[i,:]/C[i,i]\n",
    "        for j in range(len(C)):\n",
    "            if i != j:\n",
    "                coef = -C[j,i]/C[i,i]\n",
    "                C[j,:] += coef*C[i,:]\n",
    "                \n",
    "    beta = C[:,-1]\n",
    "    return beta\n",
    "\n",
    "def norm(v):\n",
    "    \n",
    "    s = 0\n",
    "    for i in range(len(v)):\n",
    "        s+= v[i]**2\n",
    "    \n",
    "    return np.sqrt(s)\n",
    "\n",
    "def QR_decomposition(A, b):\n",
    "    \n",
    "    u = np.zeros(A.shape)\n",
    "    Q = np.zeros(A.shape)\n",
    "    R = np.zeros((A.shape[1],A.shape[1]))\n",
    "    \n",
    "    # Gram-Schmidt process\n",
    "    u[:,0] = A[:,0]\n",
    "    Q[:,0] = u[:,0]/norm(u[:,0])\n",
    "    u[:,1] = A[:,1] - np.dot(A[:,1], Q[:,0])*Q[:,0]\n",
    "    Q[:,1] = u[:,1]/norm(u[:,1])\n",
    "    \n",
    "    for j in np.arange(2,len(Q)):\n",
    "        for k in range(j):\n",
    "            u[:,j] -= np.dot(A[:,j], Q[:,k])*Q[:,k]\n",
    "            \n",
    "        u[:,j] += A[:,j]\n",
    "        Q[:,j] = u[:,j]/norm(u[:,j])\n",
    "    \n",
    "    for r in range(len(R)):\n",
    "        for l in np.arange(r,len(R)):\n",
    "            R[r, l] = np.dot(A[:,l], Q[:,r])\n",
    "    \n",
    "    # Ax = b -> QRx=b -> Rx = (Q.T)*b\n",
    "    y = np.matmul(Q.T, b)\n",
    "    beta = np.matmul(np.linalg.inv(R),y)\n",
    "    \n",
    "    return beta"
   ]
  },
  {
   "cell_type": "code",
   "execution_count": 10,
   "metadata": {},
   "outputs": [],
   "source": [
    "def solve_SLE(A, b, method):\n",
    "    \n",
    "    if method == \"G\":\n",
    "        # Gaussian elimination\n",
    "        beta = Gaussian_elimination(A, b)\n",
    "        \n",
    "    elif method == \"QR\":\n",
    "        # QR decomposition\n",
    "        beta = QR_decomposition(A, b)\n",
    "    \n",
    "    elif method == \"library\":\n",
    "        # Using the library, np.linalg.solve\n",
    "        beta = np.linalg.solve(A, b)\n",
    "        \n",
    "    else:\n",
    "        print(\"Please check your method once again.\")\n",
    "    \n",
    "    return beta\n",
    "\n",
    "def learn_linreg_NormEq(X, y, method):\n",
    "    \n",
    "    # X*beta = y\n",
    "    # (X.T)*X*beta = (X.T)*y\n",
    "    A = np.matmul(X.T, X)\n",
    "    b = np.matmul(X.T, y)\n",
    "    \n",
    "    # A*beta = b\n",
    "    det = np.linalg.det(A)\n",
    "    if det == 0:\n",
    "        print(\"no unique solution of the beta\")\n",
    "        \n",
    "    else:\n",
    "        beta = solve_SLE(A, b, method)\n",
    "    \n",
    "    return beta"
   ]
  },
  {
   "cell_type": "markdown",
   "metadata": {},
   "source": [
    "### - The result below shows that these methods produce the same parameter beta."
   ]
  },
  {
   "cell_type": "code",
   "execution_count": 11,
   "metadata": {},
   "outputs": [
    {
     "name": "stdout",
     "output_type": "stream",
     "text": [
      "[  279.40473762  -142.37208196   -63.02053729     9.11930259\n",
      "    32.35692448 -2860.72828354     7.80144829   -83.21013755\n",
      "   -78.525314  ]\n"
     ]
    }
   ],
   "source": [
    "# Gaussian elimination\n",
    "beta1 = learn_linreg_NormEq(x_train, y_train, \"G\")\n",
    "print(beta1)"
   ]
  },
  {
   "cell_type": "code",
   "execution_count": 12,
   "metadata": {},
   "outputs": [
    {
     "name": "stdout",
     "output_type": "stream",
     "text": [
      "[  279.41081511  -142.367567     -63.00966281     9.11922452\n",
      "    32.35777082 -2861.33156706     7.80218119   -83.20424569\n",
      "   -78.53246377]\n"
     ]
    }
   ],
   "source": [
    "# QR_decomposition\n",
    "beta2 = learn_linreg_NormEq(x_train, y_train, \"QR\")\n",
    "print(beta2)"
   ]
  },
  {
   "cell_type": "code",
   "execution_count": 13,
   "metadata": {},
   "outputs": [
    {
     "name": "stdout",
     "output_type": "stream",
     "text": [
      "[  279.40473762  -142.37208196   -63.02053729     9.11930259\n",
      "    32.35692448 -2860.72828354     7.80144829   -83.21013755\n",
      "   -78.525314  ]\n"
     ]
    }
   ],
   "source": [
    "# numpy library\n",
    "beta3 = learn_linreg_NormEq(x_train, y_train, \"library\")\n",
    "print(beta3)"
   ]
  },
  {
   "cell_type": "markdown",
   "metadata": {},
   "source": [
    "## 1.5 Prediction by trained beta"
   ]
  },
  {
   "cell_type": "code",
   "execution_count": 14,
   "metadata": {},
   "outputs": [],
   "source": [
    "y_pred1 = np.matmul(x_test, beta1)\n",
    "y_pred2 = np.matmul(x_test, beta2)"
   ]
  },
  {
   "cell_type": "code",
   "execution_count": 15,
   "metadata": {},
   "outputs": [],
   "source": [
    "def RMSE(y_pred, y_actual):\n",
    "    \n",
    "    diff = y_pred - y_actual\n",
    "    rmse = np.sqrt(np.sum(diff**2)/len(diff))\n",
    "    \n",
    "    return rmse"
   ]
  },
  {
   "cell_type": "code",
   "execution_count": 16,
   "metadata": {},
   "outputs": [
    {
     "name": "stdout",
     "output_type": "stream",
     "text": [
      "RMSE with Gaussian elimination:  2497.9520371654603\n",
      "RMSE with QR decomposition:  2497.9596244627355\n"
     ]
    }
   ],
   "source": [
    "print(\"RMSE with Gaussian elimination: \", RMSE(y_pred1, y_test))\n",
    "print(\"RMSE with QR decomposition: \", RMSE(y_pred2, y_test))"
   ]
  },
  {
   "cell_type": "code",
   "execution_count": 17,
   "metadata": {},
   "outputs": [
    {
     "data": {
      "text/plain": [
       "[<matplotlib.lines.Line2D at 0x119f36810>]"
      ]
     },
     "execution_count": 17,
     "metadata": {},
     "output_type": "execute_result"
    },
    {
     "data": {
      "image/png": "[encoded data removed]",
      "text/plain": [
       "<Figure size 432x288 with 1 Axes>"
      ]
     },
     "metadata": {
      "needs_background": "light"
     },
     "output_type": "display_data"
    }
   ],
   "source": [
    "x_domain = np.arange(len(y_test))\n",
    "plt.scatter(x_domain, y_test)\n",
    "plt.plot(x_domain, y_pred2, 'r')"
   ]
  }
 ],
 "metadata": {
  "kernelspec": {
   "display_name": "Python 3",
   "language": "python",
   "name": "python3"
  },
  "language_info": {
   "codemirror_mode": {
    "name": "ipython",
    "version": 3
   },
   "file_extension": ".py",
   "mimetype": "text/x-python",
   "name": "python",
   "nbconvert_exporter": "python",
   "pygments_lexer": "ipython3",
   "version": "3.7.4"
  }
 },
 "nbformat": 4,
 "nbformat_minor": 2
}
