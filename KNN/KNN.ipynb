{
 "cells": [
  {
   "cell_type": "code",
   "execution_count": 1,
   "metadata": {},
   "outputs": [],
   "source": [
    "%matplotlib inline\n",
    "import numpy as np\n",
    "import pandas as pd\n",
    "import matplotlib.pyplot as plt"
   ]
  },
  {
   "cell_type": "markdown",
   "metadata": {},
   "source": [
    "## 1. Data Processing"
   ]
  },
  {
   "cell_type": "markdown",
   "metadata": {},
   "source": [
    "### 1.1 Red wine data (http://archive.ics.uci.edu/ml/datasets/Wine+Quality)"
   ]
  },
  {
   "cell_type": "code",
   "execution_count": 2,
   "metadata": {},
   "outputs": [],
   "source": [
    "wine_df = pd.read_csv('./winequality-red.csv', sep=\";\")"
   ]
  },
  {
   "cell_type": "code",
   "execution_count": 3,
   "metadata": {},
   "outputs": [
    {
     "data": {
      "text/html": [
       "<div>\n",
       "<style scoped>\n",
       "    .dataframe tbody tr th:only-of-type {\n",
       "        vertical-align: middle;\n",
       "    }\n",
       "\n",
       "    .dataframe tbody tr th {\n",
       "        vertical-align: top;\n",
       "    }\n",
       "\n",
       "    .dataframe thead th {\n",
       "        text-align: right;\n",
       "    }\n",
       "</style>\n",
       "<table border=\"1\" class=\"dataframe\">\n",
       "  <thead>\n",
       "    <tr style=\"text-align: right;\">\n",
       "      <th></th>\n",
       "      <th>fixed acidity</th>\n",
       "      <th>volatile acidity</th>\n",
       "      <th>citric acid</th>\n",
       "      <th>residual sugar</th>\n",
       "      <th>chlorides</th>\n",
       "      <th>free sulfur dioxide</th>\n",
       "      <th>total sulfur dioxide</th>\n",
       "      <th>density</th>\n",
       "      <th>pH</th>\n",
       "      <th>sulphates</th>\n",
       "      <th>alcohol</th>\n",
       "      <th>quality</th>\n",
       "    </tr>\n",
       "  </thead>\n",
       "  <tbody>\n",
       "    <tr>\n",
       "      <td>0</td>\n",
       "      <td>7.4</td>\n",
       "      <td>0.70</td>\n",
       "      <td>0.00</td>\n",
       "      <td>1.9</td>\n",
       "      <td>0.076</td>\n",
       "      <td>11.0</td>\n",
       "      <td>34.0</td>\n",
       "      <td>0.9978</td>\n",
       "      <td>3.51</td>\n",
       "      <td>0.56</td>\n",
       "      <td>9.4</td>\n",
       "      <td>5</td>\n",
       "    </tr>\n",
       "    <tr>\n",
       "      <td>1</td>\n",
       "      <td>7.8</td>\n",
       "      <td>0.88</td>\n",
       "      <td>0.00</td>\n",
       "      <td>2.6</td>\n",
       "      <td>0.098</td>\n",
       "      <td>25.0</td>\n",
       "      <td>67.0</td>\n",
       "      <td>0.9968</td>\n",
       "      <td>3.20</td>\n",
       "      <td>0.68</td>\n",
       "      <td>9.8</td>\n",
       "      <td>5</td>\n",
       "    </tr>\n",
       "    <tr>\n",
       "      <td>2</td>\n",
       "      <td>7.8</td>\n",
       "      <td>0.76</td>\n",
       "      <td>0.04</td>\n",
       "      <td>2.3</td>\n",
       "      <td>0.092</td>\n",
       "      <td>15.0</td>\n",
       "      <td>54.0</td>\n",
       "      <td>0.9970</td>\n",
       "      <td>3.26</td>\n",
       "      <td>0.65</td>\n",
       "      <td>9.8</td>\n",
       "      <td>5</td>\n",
       "    </tr>\n",
       "    <tr>\n",
       "      <td>3</td>\n",
       "      <td>11.2</td>\n",
       "      <td>0.28</td>\n",
       "      <td>0.56</td>\n",
       "      <td>1.9</td>\n",
       "      <td>0.075</td>\n",
       "      <td>17.0</td>\n",
       "      <td>60.0</td>\n",
       "      <td>0.9980</td>\n",
       "      <td>3.16</td>\n",
       "      <td>0.58</td>\n",
       "      <td>9.8</td>\n",
       "      <td>6</td>\n",
       "    </tr>\n",
       "    <tr>\n",
       "      <td>4</td>\n",
       "      <td>7.4</td>\n",
       "      <td>0.70</td>\n",
       "      <td>0.00</td>\n",
       "      <td>1.9</td>\n",
       "      <td>0.076</td>\n",
       "      <td>11.0</td>\n",
       "      <td>34.0</td>\n",
       "      <td>0.9978</td>\n",
       "      <td>3.51</td>\n",
       "      <td>0.56</td>\n",
       "      <td>9.4</td>\n",
       "      <td>5</td>\n",
       "    </tr>\n",
       "  </tbody>\n",
       "</table>\n",
       "</div>"
      ],
      "text/plain": [
       "   fixed acidity  volatile acidity  citric acid  residual sugar  chlorides  \\\n",
       "0            7.4              0.70         0.00             1.9      0.076   \n",
       "1            7.8              0.88         0.00             2.6      0.098   \n",
       "2            7.8              0.76         0.04             2.3      0.092   \n",
       "3           11.2              0.28         0.56             1.9      0.075   \n",
       "4            7.4              0.70         0.00             1.9      0.076   \n",
       "\n",
       "   free sulfur dioxide  total sulfur dioxide  density    pH  sulphates  \\\n",
       "0                 11.0                  34.0   0.9978  3.51       0.56   \n",
       "1                 25.0                  67.0   0.9968  3.20       0.68   \n",
       "2                 15.0                  54.0   0.9970  3.26       0.65   \n",
       "3                 17.0                  60.0   0.9980  3.16       0.58   \n",
       "4                 11.0                  34.0   0.9978  3.51       0.56   \n",
       "\n",
       "   alcohol  quality  \n",
       "0      9.4        5  \n",
       "1      9.8        5  \n",
       "2      9.8        5  \n",
       "3      9.8        6  \n",
       "4      9.4        5  "
      ]
     },
     "execution_count": 3,
     "metadata": {},
     "output_type": "execute_result"
    }
   ],
   "source": [
    "wine_df.head()"
   ]
  },
  {
   "cell_type": "markdown",
   "metadata": {},
   "source": [
    "### 1.2 Iris data (https://archive.ics.uci.edu/ml/datasets/Iris)\n",
    "First of all, we can set the column names based on iris.names. Next, there are the three labels(‘Iris-versicolor’,’Iris-setosa','Iris-virginica') in the form of string so that we have to convert them into the numeric vaules(0,1,2). Hence, we can use replace() for the labeling."
   ]
  },
  {
   "cell_type": "code",
   "execution_count": 4,
   "metadata": {},
   "outputs": [],
   "source": [
    "columns = ['sepal_length','sepal_width','petal_length','petal_width','species']\n",
    "\n",
    "iris_df = pd.read_csv('./iris.data', names=columns)"
   ]
  },
  {
   "cell_type": "code",
   "execution_count": 5,
   "metadata": {},
   "outputs": [],
   "source": [
    "iris_df = iris_df.replace(['Iris-versicolor','Iris-setosa','Iris-virginica'], [0, 1, 2])"
   ]
  },
  {
   "cell_type": "code",
   "execution_count": 6,
   "metadata": {},
   "outputs": [
    {
     "data": {
      "text/html": [
       "<div>\n",
       "<style scoped>\n",
       "    .dataframe tbody tr th:only-of-type {\n",
       "        vertical-align: middle;\n",
       "    }\n",
       "\n",
       "    .dataframe tbody tr th {\n",
       "        vertical-align: top;\n",
       "    }\n",
       "\n",
       "    .dataframe thead th {\n",
       "        text-align: right;\n",
       "    }\n",
       "</style>\n",
       "<table border=\"1\" class=\"dataframe\">\n",
       "  <thead>\n",
       "    <tr style=\"text-align: right;\">\n",
       "      <th></th>\n",
       "      <th>sepal_length</th>\n",
       "      <th>sepal_width</th>\n",
       "      <th>petal_length</th>\n",
       "      <th>petal_width</th>\n",
       "      <th>species</th>\n",
       "    </tr>\n",
       "  </thead>\n",
       "  <tbody>\n",
       "    <tr>\n",
       "      <td>0</td>\n",
       "      <td>5.1</td>\n",
       "      <td>3.5</td>\n",
       "      <td>1.4</td>\n",
       "      <td>0.2</td>\n",
       "      <td>1</td>\n",
       "    </tr>\n",
       "    <tr>\n",
       "      <td>1</td>\n",
       "      <td>4.9</td>\n",
       "      <td>3.0</td>\n",
       "      <td>1.4</td>\n",
       "      <td>0.2</td>\n",
       "      <td>1</td>\n",
       "    </tr>\n",
       "    <tr>\n",
       "      <td>2</td>\n",
       "      <td>4.7</td>\n",
       "      <td>3.2</td>\n",
       "      <td>1.3</td>\n",
       "      <td>0.2</td>\n",
       "      <td>1</td>\n",
       "    </tr>\n",
       "    <tr>\n",
       "      <td>3</td>\n",
       "      <td>4.6</td>\n",
       "      <td>3.1</td>\n",
       "      <td>1.5</td>\n",
       "      <td>0.2</td>\n",
       "      <td>1</td>\n",
       "    </tr>\n",
       "    <tr>\n",
       "      <td>4</td>\n",
       "      <td>5.0</td>\n",
       "      <td>3.6</td>\n",
       "      <td>1.4</td>\n",
       "      <td>0.2</td>\n",
       "      <td>1</td>\n",
       "    </tr>\n",
       "  </tbody>\n",
       "</table>\n",
       "</div>"
      ],
      "text/plain": [
       "   sepal_length  sepal_width  petal_length  petal_width  species\n",
       "0           5.1          3.5           1.4          0.2        1\n",
       "1           4.9          3.0           1.4          0.2        1\n",
       "2           4.7          3.2           1.3          0.2        1\n",
       "3           4.6          3.1           1.5          0.2        1\n",
       "4           5.0          3.6           1.4          0.2        1"
      ]
     },
     "execution_count": 6,
     "metadata": {},
     "output_type": "execute_result"
    }
   ],
   "source": [
    "iris_df.head()"
   ]
  },
  {
   "cell_type": "markdown",
   "metadata": {},
   "source": [
    "## 2. Train and test data with normalization\n",
    "In KNN algorithm, we use a distance function such as Euclidean distance so scaling data is needed not to weight specific variable. Now, we can use min-max normalization to scale train data. First of all, the row data are shuffled in order to eliminate the potential of biases or patterns by sample(frac=1). Next, we can split the data into train(x_train, y_train) with normalization and test(x_test, y_test) sets. to,numpy() is to convert the dataframe into the numpy array for matrix calculations. "
   ]
  },
  {
   "cell_type": "code",
   "execution_count": 7,
   "metadata": {},
   "outputs": [],
   "source": [
    "def normalize(df):\n",
    "    df = (df-df.min())/(df.max()-df.min())\n",
    "    return df\n",
    "\n",
    "def SplitData(df, target):\n",
    "    # Shuffling\n",
    "    df = df.sample(frac=1,random_state=777)\n",
    "\n",
    "    # Split data set into train(70%) and test(30%) sets\n",
    "    num_train = int(len(df)*0.7)\n",
    "    train_set = df[:num_train]\n",
    "    test_set = df[num_train:]\n",
    "    \n",
    "    # normalization\n",
    "    y_train = train_set[target].to_numpy()\n",
    "    x_train = normalize(train_set.drop([target], axis=1)).to_numpy()\n",
    "    y_test = test_set[target].to_numpy()\n",
    "    x_test = normalize(test_set.drop([target], axis=1)).to_numpy()\n",
    "    \n",
    "    print(f'#total: {len(df)},  #xtrain: {x_train.shape}, #ytrain: {y_train.shape}, #xtest: {x_test.shape}, #xtest: {y_test.shape}')\n",
    "    return x_train, y_train, x_test, y_test"
   ]
  },
  {
   "cell_type": "code",
   "execution_count": 8,
   "metadata": {},
   "outputs": [
    {
     "name": "stdout",
     "output_type": "stream",
     "text": [
      "#total: 150,  #xtrain: (105, 4), #ytrain: (105,), #xtest: (45, 4), #xtest: (45,)\n",
      "#total: 1599,  #xtrain: (1119, 11), #ytrain: (1119,), #xtest: (480, 11), #xtest: (480,)\n"
     ]
    }
   ],
   "source": [
    "d1x_train, d1y_train, d1x_test, d1y_test = SplitData(iris_df, 'species')\n",
    "d2x_train, d2y_train, d2x_test, d2y_test = SplitData(wine_df, 'quality')"
   ]
  },
  {
   "cell_type": "markdown",
   "metadata": {},
   "source": [
    "## 3. Implementation of KNN algorithms\n",
    "For our practice, I use classification for iris data and regression for wine data. In my KNN algorithms, we can choose the KNN type(‘regression’ or ‘classification’). If the regression is used, the mean in a neighbor is calculated for the prediction y. If the classification is selected, majority voting is implemented for the prediction y. Otherwise, the error message will appear.\n",
    "\n",
    "\n",
    "First, we can measure distances between q and each i-th row of x by the eunclidean_distance function. Next, we can use numpy argsort() to get k shortest distances. For example, let’s have an array arr = np.array([5,3,1,2]) then arr.argsort() results in the index set [2 3 1 0] based on descending order of the values. Through arr.argsort()[:k], we can obtain k elements of the argsort() set. Finally, we can get the nearest y[neighbor_idx] by the index set D.argsort()[:k].\n",
    "\n",
    "\n",
    "For regression, y_pred = np.mean(y[neighbor_idx]) is used. For classification, counts = np.bincount(y[neighbor_idx]) and y_pred = np.argmax(counts) are conducted. Hence, np.bincount() counts the frequency in the y[neighbor_idx] and np.argmax() selects an index which has maximum value of the frequency. (i.e. majority voting)\n"
   ]
  },
  {
   "cell_type": "code",
   "execution_count": 9,
   "metadata": {},
   "outputs": [],
   "source": [
    "def euclidean_distance(q, x):\n",
    "    s = 0\n",
    "    for i in range(len(q)):\n",
    "        s += (q[i]-x[i])**2\n",
    "    return np.sqrt(s)\n",
    "    \n",
    "def predict_knn(q, x, y, k, knn_type):\n",
    "    D = np.zeros(len(y))\n",
    "    if knn_type == 'regression':\n",
    "        for i in range(len(y)):\n",
    "            D[i] = euclidean_distance(q, x[i,:])\n",
    "            neighbor_idx = D.argsort()[:k]\n",
    "        y_pred = np.mean(y[neighbor_idx])\n",
    "        \n",
    "    elif knn_type == 'classification':\n",
    "        for i in range(len(y)):\n",
    "            D[i] = euclidean_distance(q, x[i,:])\n",
    "            neighbor_idx = D.argsort()[:k]\n",
    "        counts = np.bincount(y[neighbor_idx])\n",
    "        y_pred = np.argmax(counts)\n",
    "        \n",
    "    else:\n",
    "        print('There does not exist the type.')\n",
    "        \n",
    "    return y_pred"
   ]
  },
  {
   "cell_type": "code",
   "execution_count": 10,
   "metadata": {},
   "outputs": [],
   "source": [
    "y_class = np.zeros(len(d1y_test))\n",
    "for i in range(len(d1y_test)):\n",
    "    y_class[i] = predict_knn(d1x_test[i], d1x_train, d1y_train, 3,'classification')"
   ]
  },
  {
   "cell_type": "code",
   "execution_count": 11,
   "metadata": {
    "scrolled": true
   },
   "outputs": [
    {
     "data": {
      "text/plain": [
       "<matplotlib.legend.Legend at 0x118250f10>"
      ]
     },
     "execution_count": 11,
     "metadata": {},
     "output_type": "execute_result"
    },
    {
     "data": {
      "image/png": "[encoded data removed]",
      "text/plain": [
       "<Figure size 432x288 with 1 Axes>"
      ]
     },
     "metadata": {
      "needs_background": "light"
     },
     "output_type": "display_data"
    }
   ],
   "source": [
    "x1_domain = np.arange(len(y_class))\n",
    "plt.plot(x1_domain, y_class, '.r')\n",
    "plt.plot(x1_domain, d1y_test, '.g')\n",
    "plt.ylabel('species')\n",
    "plt.legend(['prediction','actual value'])"
   ]
  },
  {
   "cell_type": "code",
   "execution_count": 12,
   "metadata": {},
   "outputs": [
    {
     "name": "stdout",
     "output_type": "stream",
     "text": [
      "Accuracy: 95.56%\n"
     ]
    }
   ],
   "source": [
    "def accuracy(y_pred, y_actual):\n",
    "    count = 0\n",
    "    for i in range(len(y_pred)):\n",
    "        if y_pred[i] == y_actual[i]:\n",
    "            count += 1\n",
    "    accuracy = count/len(y_pred)\n",
    "    return round(accuracy*100,2)\n",
    "\n",
    "print(f'Accuracy: {accuracy(y_class, d1y_test)}%')"
   ]
  },
  {
   "cell_type": "code",
   "execution_count": 13,
   "metadata": {},
   "outputs": [],
   "source": [
    "y_pred = np.zeros(len(d2y_test))\n",
    "for i in range(len(d2y_test)):\n",
    "    y_pred[i] = predict_knn(d2x_test[i], d2x_train, d2y_train, 25,'classification')"
   ]
  },
  {
   "cell_type": "code",
   "execution_count": 14,
   "metadata": {},
   "outputs": [
    {
     "data": {
      "text/plain": [
       "<matplotlib.legend.Legend at 0x1182c7610>"
      ]
     },
     "execution_count": 14,
     "metadata": {},
     "output_type": "execute_result"
    },
    {
     "data": {
      "image/png": "[encoded data removed]",
      "text/plain": [
       "<Figure size 432x288 with 1 Axes>"
      ]
     },
     "metadata": {
      "needs_background": "light"
     },
     "output_type": "display_data"
    }
   ],
   "source": [
    "x2_domain = np.arange(len(y_pred))\n",
    "plt.plot(x2_domain, y_pred.round(0), '.r')\n",
    "plt.plot(x2_domain, d2y_test, '.g')\n",
    "plt.ylabel('quality')\n",
    "plt.legend(['prediction','actual value'])"
   ]
  },
  {
   "cell_type": "code",
   "execution_count": 15,
   "metadata": {
    "scrolled": true
   },
   "outputs": [
    {
     "name": "stdout",
     "output_type": "stream",
     "text": [
      "Loss: 0.03498511588280555\n",
      "Accuracy: 55.0%\n"
     ]
    }
   ],
   "source": [
    "def Loss(y_pred, y_actual):\n",
    "    s = 0\n",
    "    for i in range(len(y_pred)):\n",
    "        s += (y_pred[i]-y_actual[i])**2\n",
    "    loss = np.sqrt(s)/len(y_pred)\n",
    "    return loss\n",
    "\n",
    "print(f'Loss: {Loss(y_pred, d2y_test)}')\n",
    "print(f'Accuracy: {accuracy(y_pred.round(0), d2y_test)}%')"
   ]
  },
  {
   "cell_type": "markdown",
   "metadata": {},
   "source": [
    "## 4. Optimal Value of K in KNN algorithm"
   ]
  },
  {
   "cell_type": "code",
   "execution_count": 16,
   "metadata": {},
   "outputs": [],
   "source": [
    "k_set = [1,3,5,25,100]"
   ]
  },
  {
   "cell_type": "code",
   "execution_count": 17,
   "metadata": {},
   "outputs": [],
   "source": [
    "acc = []\n",
    "for k in k_set:\n",
    "    y_class = np.zeros(len(d1y_test))\n",
    "    for i in range(len(d1y_test)):\n",
    "        y_class[i] = predict_knn(d1x_test[i], d1x_train, d1y_train, k,'classification')\n",
    "    acc.append(accuracy(y_class, d1y_test))  "
   ]
  },
  {
   "cell_type": "code",
   "execution_count": 18,
   "metadata": {
    "scrolled": true
   },
   "outputs": [
    {
     "data": {
      "text/plain": [
       "Text(0.5, 1.0, 'Find the best k for Iris data')"
      ]
     },
     "execution_count": 18,
     "metadata": {},
     "output_type": "execute_result"
    },
    {
     "data": {
      "image/png": "[encoded data removed]",
      "text/plain": [
       "<Figure size 432x288 with 1 Axes>"
      ]
     },
     "metadata": {
      "needs_background": "light"
     },
     "output_type": "display_data"
    }
   ],
   "source": [
    "plt.plot(k_set,acc)\n",
    "plt.xlabel('k')\n",
    "plt.ylabel('accuracy')\n",
    "plt.title('Find the best k for Iris data')"
   ]
  },
  {
   "cell_type": "code",
   "execution_count": 19,
   "metadata": {},
   "outputs": [],
   "source": [
    "loss = []\n",
    "for k in k_set:\n",
    "    y_pred = np.zeros(len(d2y_test))\n",
    "    for i in range(len(d2y_test)):\n",
    "        y_pred[i] = predict_knn(d2x_test[i], d2x_train, d2y_train, k,'regression')\n",
    "    loss.append(Loss(y_pred, d2y_test))    "
   ]
  },
  {
   "cell_type": "code",
   "execution_count": 20,
   "metadata": {},
   "outputs": [
    {
     "data": {
      "text/plain": [
       "Text(0.5, 1.0, 'Find the best k for Wine data')"
      ]
     },
     "execution_count": 20,
     "metadata": {},
     "output_type": "execute_result"
    },
    {
     "data": {
      "image/png": "[encoded data removed]",
      "text/plain": [
       "<Figure size 432x288 with 1 Axes>"
      ]
     },
     "metadata": {
      "needs_background": "light"
     },
     "output_type": "display_data"
    }
   ],
   "source": [
    "plt.plot(k_set,loss)\n",
    "plt.xlabel('k')\n",
    "plt.ylabel('loss')\n",
    "plt.title('Find the best k for Wine data')"
   ]
  },
  {
   "cell_type": "markdown",
   "metadata": {},
   "source": [
    "## 5. Conclusion\n",
    "\n",
    "In KNN, the prediction performance depends on k and distance function, hence, we have to choose the optimal k by grid search or cross validation and select a suitable distance function for each data. Furthermore, KNN is easy to implement its code but calculation of distances is too expensive when data is large. "
   ]
  }
 ],
 "metadata": {
  "kernelspec": {
   "display_name": "Python 3",
   "language": "python",
   "name": "python3"
  },
  "language_info": {
   "codemirror_mode": {
    "name": "ipython",
    "version": 3
   },
   "file_extension": ".py",
   "mimetype": "text/x-python",
   "name": "python",
   "nbconvert_exporter": "python",
   "pygments_lexer": "ipython3",
   "version": "3.7.4"
  }
 },
 "nbformat": 4,
 "nbformat_minor": 2
}
