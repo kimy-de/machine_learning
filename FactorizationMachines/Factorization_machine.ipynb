{
 "cells": [
  {
   "cell_type": "code",
   "execution_count": 1,
   "metadata": {},
   "outputs": [],
   "source": [
    "import numpy as np\n",
    "import pandas as pd\n",
    "import matplotlib.pyplot as plt\n",
    "from sklearn.model_selection import train_test_split\n",
    "from sklearn.svm import SVR"
   ]
  },
  {
   "cell_type": "code",
   "execution_count": 2,
   "metadata": {},
   "outputs": [
    {
     "name": "stdout",
     "output_type": "stream",
     "text": [
      "Readme\n"
     ]
    }
   ],
   "source": [
    "\"\"\"\n",
    "http://grouplens.org/datasets/movielens/100k/\n",
    "\n",
    "u.data     -- The full u data set, 100000 ratings by 943 users on 1682 items.\n",
    "              Each user has rated at least 20 movies.  Users and items are\n",
    "              numbered consecutively from 1.  The data is randomly\n",
    "              ordered. This is a tab separated list of \n",
    "              user id | item id | rating | timestamp. \n",
    "              The time stamps are unix seconds since 1/1/1970 UTC   \n",
    "\n",
    "u.info     -- The number of users, items, and ratings in the u data set.\n",
    "\n",
    "u.item     -- Information about the items (movies); this is a tab separated\n",
    "              list of\n",
    "              movie id | movie title | release date | video release date |\n",
    "              IMDb URL | unknown | Action | Adventure | Animation |\n",
    "              Children's | Comedy | Crime | Documentary | Drama | Fantasy |\n",
    "              Film-Noir | Horror | Musical | Mystery | Romance | Sci-Fi |\n",
    "              Thriller | War | Western |\n",
    "              The last 19 fields are the genres, a 1 indicates the movie\n",
    "              is of that genre, a 0 indicates it is not; movies can be in\n",
    "              several genres at once.\n",
    "              The movie ids are the ones used in the u.data data set.\n",
    "\n",
    "u.genre    -- A list of the genres.\n",
    "\n",
    "u.user     -- Demographic information about the users; this is a tab\n",
    "              separated list of\n",
    "              user id | age | gender | occupation | zip code\n",
    "              The user ids are the ones used in the u.data data set.\n",
    "\"\"\"\n",
    "print('Readme')"
   ]
  },
  {
   "cell_type": "code",
   "execution_count": 3,
   "metadata": {},
   "outputs": [
    {
     "data": {
      "text/html": [
       "<div>\n",
       "<style scoped>\n",
       "    .dataframe tbody tr th:only-of-type {\n",
       "        vertical-align: middle;\n",
       "    }\n",
       "\n",
       "    .dataframe tbody tr th {\n",
       "        vertical-align: top;\n",
       "    }\n",
       "\n",
       "    .dataframe thead th {\n",
       "        text-align: right;\n",
       "    }\n",
       "</style>\n",
       "<table border=\"1\" class=\"dataframe\">\n",
       "  <thead>\n",
       "    <tr style=\"text-align: right;\">\n",
       "      <th></th>\n",
       "      <th>user_id</th>\n",
       "      <th>movie_id</th>\n",
       "      <th>rating</th>\n",
       "    </tr>\n",
       "  </thead>\n",
       "  <tbody>\n",
       "    <tr>\n",
       "      <td>0</td>\n",
       "      <td>196</td>\n",
       "      <td>242</td>\n",
       "      <td>3</td>\n",
       "    </tr>\n",
       "    <tr>\n",
       "      <td>1</td>\n",
       "      <td>186</td>\n",
       "      <td>302</td>\n",
       "      <td>3</td>\n",
       "    </tr>\n",
       "    <tr>\n",
       "      <td>2</td>\n",
       "      <td>22</td>\n",
       "      <td>377</td>\n",
       "      <td>1</td>\n",
       "    </tr>\n",
       "    <tr>\n",
       "      <td>3</td>\n",
       "      <td>244</td>\n",
       "      <td>51</td>\n",
       "      <td>2</td>\n",
       "    </tr>\n",
       "    <tr>\n",
       "      <td>4</td>\n",
       "      <td>166</td>\n",
       "      <td>346</td>\n",
       "      <td>1</td>\n",
       "    </tr>\n",
       "  </tbody>\n",
       "</table>\n",
       "</div>"
      ],
      "text/plain": [
       "   user_id  movie_id  rating\n",
       "0      196       242       3\n",
       "1      186       302       3\n",
       "2       22       377       1\n",
       "3      244        51       2\n",
       "4      166       346       1"
      ]
     },
     "execution_count": 3,
     "metadata": {},
     "output_type": "execute_result"
    }
   ],
   "source": [
    "r_cols = ['user_id', 'movie_id', 'rating']\n",
    "ratings = pd.read_csv('ml-100k/u.data', sep='\\t', names=r_cols, usecols=range(3), encoding='latin-1')\n",
    "ratings.head()"
   ]
  },
  {
   "cell_type": "code",
   "execution_count": 4,
   "metadata": {},
   "outputs": [
    {
     "name": "stdout",
     "output_type": "stream",
     "text": [
      "<class 'pandas.core.frame.DataFrame'>\n",
      "RangeIndex: 100000 entries, 0 to 99999\n",
      "Data columns (total 3 columns):\n",
      "user_id     100000 non-null int64\n",
      "movie_id    100000 non-null int64\n",
      "rating      100000 non-null int64\n",
      "dtypes: int64(3)\n",
      "memory usage: 2.3 MB\n"
     ]
    }
   ],
   "source": [
    "ratings.info()"
   ]
  },
  {
   "cell_type": "markdown",
   "metadata": {},
   "source": [
    "# Matrix Factorization"
   ]
  },
  {
   "cell_type": "code",
   "execution_count": 5,
   "metadata": {},
   "outputs": [],
   "source": [
    "R = ratings.sample(frac=0.01)\n",
    "\n",
    "user_dummy = pd.get_dummies(R['user_id'])\n",
    "R = pd.concat([R, user_dummy], axis=1)\n",
    "movie_dummy = pd.get_dummies(R['movie_id'])\n",
    "R = pd.concat([R, movie_dummy], axis=1)\n",
    "\n",
    "y = R['rating'].values\n",
    "X = R.drop(['user_id','movie_id' ,'rating'], axis=1).values"
   ]
  },
  {
   "cell_type": "code",
   "execution_count": 6,
   "metadata": {},
   "outputs": [],
   "source": [
    "# Normalization\n",
    "X = (X - np.min(X))/(np.max(X) - np.min(X))"
   ]
  },
  {
   "cell_type": "code",
   "execution_count": 7,
   "metadata": {},
   "outputs": [],
   "source": [
    "X_train, X_test, y_train, y_test = train_test_split(X, y, test_size=.3, random_state=4)"
   ]
  },
  {
   "cell_type": "code",
   "execution_count": 8,
   "metadata": {},
   "outputs": [],
   "source": [
    "def FM_2way(X_data, y_data, alpha, beta1, beta2, K, num_epoch):\n",
    "    X_data = (X_data-np.min(X_data))/(np.max(X_data)-np.min(X_data))\n",
    "    w0 = np.random.normal(0,0.1,1)\n",
    "    w = np.random.normal(0,0.1,size= X_data.shape[1])\n",
    "    V = np.random.normal(0,0.1,size=(X_data.shape[1],K))\n",
    "    L = []\n",
    "    print(f'X:{X_data.shape}, y:{y_data.shape}')\n",
    "    print(f'w0:{w0.shape}, w:{w.shape}, V:{V.shape}')\n",
    "    batch_size = 100\n",
    "       \n",
    "    for epoch in range(num_epoch):\n",
    "        if epoch % 500 == 0:\n",
    "            print(f'epoch: {epoch}/{num_epoch}')\n",
    "        for batch in range(len(X_train)//batch_size):\n",
    "            X = X_data[batch*batch_size:(batch+1)*batch_size,:]\n",
    "            y = y_data[batch*batch_size:(batch+1)*batch_size]\n",
    "            \n",
    "\n",
    "            # Prediction y_hat \n",
    "            # Interaction between two variables\n",
    "            tmp = np.sum(np.dot(X,V)**2, axis=1)\n",
    "            tmp2 = np.sum(np.dot(X**2,V**2), axis=1)\n",
    "            interactions = tmp - tmp2\n",
    "\n",
    "            y_hat = w0 + np.dot(X,w) + 0.5*interactions\n",
    "         \n",
    "            # Loss with L1 regularization\n",
    "            e = y_hat - y\n",
    "            loss = np.sum(e**2)/len(y) + beta1*np.abs(w0) + beta1*np.sum(np.abs(w)) + beta2*np.sum(np.abs(V))\n",
    "            L.append(loss[0]) \n",
    "            #print(loss, y_hat.shape, y.shape)\n",
    "            \n",
    "            # Gradient Descent\n",
    "            w0 -= alpha*(2*np.sum(e)/len(y) + beta1*np.sign(w0))\n",
    "            w -= alpha*(2*np.dot(e,X)/len(y) + beta1*np.sign(w))\n",
    "            \n",
    "            #for k in range(V.shape[0]):\n",
    "            #    for f in range(V.shape[1]):\n",
    "            #        V[k,f] -= alpha*(2*np.sum(e*X[:,k]*np.dot(X,V[:,f])-V[k,f]*X[:,k]**2)/len(y)+beta2*np.sign(V[k,f]))\n",
    "            for f in range(V.shape[1]):\n",
    "                V[:,f] = np.sum((e*X.T*np.dot(X,V[:,f])).T-V[:,f]*X**2, axis=0)\n",
    "     \n",
    "        #print(f'w0:{w0.shape}, w:{w.shape}, V:{V.shape}')        \n",
    "\n",
    "    return w0, w, V, L\n",
    "\n",
    "def prediction(X, w0, w, V):\n",
    "\n",
    "    tmp = np.sum(np.dot(X,V)**2, axis=1)\n",
    "    tmp2 = np.sum(np.dot(X**2,V**2), axis=1)\n",
    "    interactions = tmp - tmp2\n",
    "\n",
    "    y_hat = w0 + np.dot(X,w) + 0.5*interactions\n",
    "    \n",
    "    return y_hat  \n",
    "\n",
    "def RMSE(y, y_hat):\n",
    "    return np.sqrt(np.sum((y-y_hat)**2)/len(y))"
   ]
  },
  {
   "cell_type": "code",
   "execution_count": 16,
   "metadata": {},
   "outputs": [
    {
     "name": "stdout",
     "output_type": "stream",
     "text": [
      "X:(700, 1068), y:(700,)\n",
      "w0:(1,), w:(1068,), V:(1068, 2)\n",
      "epoch: 0/1500\n",
      "epoch: 500/1500\n",
      "epoch: 1000/1500\n"
     ]
    }
   ],
   "source": [
    "w0, w, V, L = FM_2way(X_train, y_train, 0.5, 0, 0, 2, 1500)"
   ]
  },
  {
   "cell_type": "code",
   "execution_count": 17,
   "metadata": {},
   "outputs": [
    {
     "data": {
      "text/plain": [
       "[<matplotlib.lines.Line2D at 0x1a16e61350>]"
      ]
     },
     "execution_count": 17,
     "metadata": {},
     "output_type": "execute_result"
    },
    {
     "data": {
      "image/png": "[encoded data removed]",
      "text/plain": [
       "<Figure size 432x288 with 1 Axes>"
      ]
     },
     "metadata": {
      "needs_background": "light"
     },
     "output_type": "display_data"
    }
   ],
   "source": [
    "plt.plot(L)"
   ]
  },
  {
   "cell_type": "code",
   "execution_count": 18,
   "metadata": {},
   "outputs": [
    {
     "data": {
      "image/png": "[encoded data removed]",
      "text/plain": [
       "<Figure size 432x288 with 1 Axes>"
      ]
     },
     "metadata": {
      "needs_background": "light"
     },
     "output_type": "display_data"
    },
    {
     "name": "stdout",
     "output_type": "stream",
     "text": [
      "0.09775087745966837\n"
     ]
    }
   ],
   "source": [
    "y_hat = prediction(X_train, w0, w, V)\n",
    "plt.plot(y_hat, y_train,'*')\n",
    "plt.show()\n",
    "print(RMSE(y_train, y_hat))"
   ]
  },
  {
   "cell_type": "code",
   "execution_count": 19,
   "metadata": {},
   "outputs": [
    {
     "data": {
      "image/png": "[encoded data removed]",
      "text/plain": [
       "<Figure size 432x288 with 1 Axes>"
      ]
     },
     "metadata": {
      "needs_background": "light"
     },
     "output_type": "display_data"
    },
    {
     "name": "stdout",
     "output_type": "stream",
     "text": [
      "1.3753978695608353\n"
     ]
    }
   ],
   "source": [
    "y_pred = prediction(X_test, w0, w, V)\n",
    "plt.plot(y_pred, y_test,'*')\n",
    "plt.show()\n",
    "print(RMSE(y_test, y_pred))"
   ]
  },
  {
   "cell_type": "code",
   "execution_count": 13,
   "metadata": {},
   "outputs": [],
   "source": [
    "clf = SVR(C=1.0, kernel='poly', degree=2, gamma=2)\n",
    "clf.fit(X_train,y_train)\n",
    "y_hat1 = clf.predict(X_train)"
   ]
  },
  {
   "cell_type": "code",
   "execution_count": 14,
   "metadata": {},
   "outputs": [
    {
     "data": {
      "image/png": "[encoded data removed]",
      "text/plain": [
       "<Figure size 432x288 with 1 Axes>"
      ]
     },
     "metadata": {
      "needs_background": "light"
     },
     "output_type": "display_data"
    },
    {
     "name": "stdout",
     "output_type": "stream",
     "text": [
      "0.09833941489459079\n"
     ]
    }
   ],
   "source": [
    "plt.plot(y_hat1, y_train,'*')\n",
    "plt.show()\n",
    "print(RMSE(y_train, y_hat1))"
   ]
  },
  {
   "cell_type": "code",
   "execution_count": 15,
   "metadata": {},
   "outputs": [
    {
     "data": {
      "image/png": "[encoded data removed]",
      "text/plain": [
       "<Figure size 432x288 with 1 Axes>"
      ]
     },
     "metadata": {
      "needs_background": "light"
     },
     "output_type": "display_data"
    },
    {
     "name": "stdout",
     "output_type": "stream",
     "text": [
      "1.1401309451537498\n"
     ]
    }
   ],
   "source": [
    "y_pred1 = clf.predict(X_test)\n",
    "plt.plot(y_pred1, y_test,'*')\n",
    "plt.show()\n",
    "print(RMSE(y_test, y_pred1))"
   ]
  },
  {
   "cell_type": "markdown",
   "metadata": {},
   "source": [
    "## Conclusion\n",
    "\n",
    "The reference paper, Factorization Machines written by Steffen Rendle, introduced that FMs allow parameter updates under very sparse data where SVMs fail. However, I didn't get the expected result because of using sample data which is not very sparse data. Thus the two models are well-trained in this practice."
   ]
  }
 ],
 "metadata": {
  "kernelspec": {
   "display_name": "Python 3",
   "language": "python",
   "name": "python3"
  },
  "language_info": {
   "codemirror_mode": {
    "name": "ipython",
    "version": 3
   },
   "file_extension": ".py",
   "mimetype": "text/x-python",
   "name": "python",
   "nbconvert_exporter": "python",
   "pygments_lexer": "ipython3",
   "version": "3.7.4"
  }
 },
 "nbformat": 4,
 "nbformat_minor": 2
}
