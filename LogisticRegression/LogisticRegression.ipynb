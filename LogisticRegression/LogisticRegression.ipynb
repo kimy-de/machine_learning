{
 "cells": [
  {
   "cell_type": "code",
   "execution_count": 1,
   "metadata": {},
   "outputs": [],
   "source": [
    "%matplotlib inline\n",
    "import numpy as np\n",
    "import pandas as pd\n",
    "import matplotlib.pyplot as plt"
   ]
  },
  {
   "cell_type": "markdown",
   "metadata": {},
   "source": [
    "## 1. Data preprocessing"
   ]
  },
  {
   "cell_type": "markdown",
   "metadata": {},
   "source": [
    "### tic-tac-toe:"
   ]
  },
  {
   "cell_type": "code",
   "execution_count": 2,
   "metadata": {},
   "outputs": [
    {
     "name": "stdout",
     "output_type": "stream",
     "text": [
      "https://archive.ics.uci.edu/ml/datasets/Tic-Tac-Toe+Endgame\n"
     ]
    }
   ],
   "source": [
    "\"\"\"\n",
    "    1. top-left-square: {x,o,b}\n",
    "    2. top-middle-square: {x,o,b}\n",
    "    3. top-right-square: {x,o,b}\n",
    "    4. middle-left-square: {x,o,b}\n",
    "    5. middle-middle-square: {x,o,b}\n",
    "    6. middle-right-square: {x,o,b}\n",
    "    7. bottom-left-square: {x,o,b}\n",
    "    8. bottom-middle-square: {x,o,b}\n",
    "    9. bottom-right-square: {x,o,b}\n",
    "   10. Class: {positive,negative}\n",
    "\"\"\"\n",
    "print(\"https://archive.ics.uci.edu/ml/datasets/Tic-Tac-Toe+Endgame\")"
   ]
  },
  {
   "cell_type": "code",
   "execution_count": 3,
   "metadata": {},
   "outputs": [],
   "source": [
    "# tic-tac-toe.data\n",
    "columns = ['top-left-square','top-middle-square','top-right-square','middle-left-square','middle-middle-square',\n",
    "          'middle-right-square','bottom-left-square','bottom-middle-square','bottom-right-square','Class']\n",
    "df = pd.read_csv('./tic-tac-toe.data', names=columns) "
   ]
  },
  {
   "cell_type": "code",
   "execution_count": 4,
   "metadata": {},
   "outputs": [
    {
     "name": "stdout",
     "output_type": "stream",
     "text": [
      "<class 'pandas.core.frame.DataFrame'>\n",
      "RangeIndex: 958 entries, 0 to 957\n",
      "Data columns (total 10 columns):\n",
      "top-left-square         958 non-null object\n",
      "top-middle-square       958 non-null object\n",
      "top-right-square        958 non-null object\n",
      "middle-left-square      958 non-null object\n",
      "middle-middle-square    958 non-null object\n",
      "middle-right-square     958 non-null object\n",
      "bottom-left-square      958 non-null object\n",
      "bottom-middle-square    958 non-null object\n",
      "bottom-right-square     958 non-null object\n",
      "Class                   958 non-null object\n",
      "dtypes: object(10)\n",
      "memory usage: 75.0+ KB\n"
     ]
    }
   ],
   "source": [
    "df.info()"
   ]
  },
  {
   "cell_type": "code",
   "execution_count": 5,
   "metadata": {},
   "outputs": [
    {
     "data": {
      "text/html": [
       "<div>\n",
       "<style scoped>\n",
       "    .dataframe tbody tr th:only-of-type {\n",
       "        vertical-align: middle;\n",
       "    }\n",
       "\n",
       "    .dataframe tbody tr th {\n",
       "        vertical-align: top;\n",
       "    }\n",
       "\n",
       "    .dataframe thead th {\n",
       "        text-align: right;\n",
       "    }\n",
       "</style>\n",
       "<table border=\"1\" class=\"dataframe\">\n",
       "  <thead>\n",
       "    <tr style=\"text-align: right;\">\n",
       "      <th></th>\n",
       "      <th>top-left-square</th>\n",
       "      <th>top-middle-square</th>\n",
       "      <th>top-right-square</th>\n",
       "      <th>middle-left-square</th>\n",
       "      <th>middle-middle-square</th>\n",
       "      <th>middle-right-square</th>\n",
       "      <th>bottom-left-square</th>\n",
       "      <th>bottom-middle-square</th>\n",
       "      <th>bottom-right-square</th>\n",
       "      <th>Class</th>\n",
       "    </tr>\n",
       "  </thead>\n",
       "  <tbody>\n",
       "    <tr>\n",
       "      <td>0</td>\n",
       "      <td>x</td>\n",
       "      <td>x</td>\n",
       "      <td>x</td>\n",
       "      <td>x</td>\n",
       "      <td>o</td>\n",
       "      <td>o</td>\n",
       "      <td>x</td>\n",
       "      <td>o</td>\n",
       "      <td>o</td>\n",
       "      <td>positive</td>\n",
       "    </tr>\n",
       "    <tr>\n",
       "      <td>1</td>\n",
       "      <td>x</td>\n",
       "      <td>x</td>\n",
       "      <td>x</td>\n",
       "      <td>x</td>\n",
       "      <td>o</td>\n",
       "      <td>o</td>\n",
       "      <td>o</td>\n",
       "      <td>x</td>\n",
       "      <td>o</td>\n",
       "      <td>positive</td>\n",
       "    </tr>\n",
       "    <tr>\n",
       "      <td>2</td>\n",
       "      <td>x</td>\n",
       "      <td>x</td>\n",
       "      <td>x</td>\n",
       "      <td>x</td>\n",
       "      <td>o</td>\n",
       "      <td>o</td>\n",
       "      <td>o</td>\n",
       "      <td>o</td>\n",
       "      <td>x</td>\n",
       "      <td>positive</td>\n",
       "    </tr>\n",
       "    <tr>\n",
       "      <td>3</td>\n",
       "      <td>x</td>\n",
       "      <td>x</td>\n",
       "      <td>x</td>\n",
       "      <td>x</td>\n",
       "      <td>o</td>\n",
       "      <td>o</td>\n",
       "      <td>o</td>\n",
       "      <td>b</td>\n",
       "      <td>b</td>\n",
       "      <td>positive</td>\n",
       "    </tr>\n",
       "    <tr>\n",
       "      <td>4</td>\n",
       "      <td>x</td>\n",
       "      <td>x</td>\n",
       "      <td>x</td>\n",
       "      <td>x</td>\n",
       "      <td>o</td>\n",
       "      <td>o</td>\n",
       "      <td>b</td>\n",
       "      <td>o</td>\n",
       "      <td>b</td>\n",
       "      <td>positive</td>\n",
       "    </tr>\n",
       "  </tbody>\n",
       "</table>\n",
       "</div>"
      ],
      "text/plain": [
       "  top-left-square top-middle-square top-right-square middle-left-square  \\\n",
       "0               x                 x                x                  x   \n",
       "1               x                 x                x                  x   \n",
       "2               x                 x                x                  x   \n",
       "3               x                 x                x                  x   \n",
       "4               x                 x                x                  x   \n",
       "\n",
       "  middle-middle-square middle-right-square bottom-left-square  \\\n",
       "0                    o                   o                  x   \n",
       "1                    o                   o                  o   \n",
       "2                    o                   o                  o   \n",
       "3                    o                   o                  o   \n",
       "4                    o                   o                  b   \n",
       "\n",
       "  bottom-middle-square bottom-right-square     Class  \n",
       "0                    o                   o  positive  \n",
       "1                    x                   o  positive  \n",
       "2                    o                   x  positive  \n",
       "3                    b                   b  positive  \n",
       "4                    o                   b  positive  "
      ]
     },
     "execution_count": 5,
     "metadata": {},
     "output_type": "execute_result"
    }
   ],
   "source": [
    "df.head()"
   ]
  },
  {
   "cell_type": "markdown",
   "metadata": {},
   "source": [
    "Based on “tic-tac-toe.names”, we can set the column names of the data frame.\n",
    "There is no missing value, and all the data types are object so we have to convert them into numeric values."
   ]
  },
  {
   "cell_type": "markdown",
   "metadata": {},
   "source": [
    "### 1.1 One hot encoding\n",
    "pd.get_dummies makes one hot encoding columns so these\n",
    "columns except for Class can be substituted with one hot encoding columns(these existing\n",
    "columns have to be removed). For the Class column, we can use replace() to get only\n",
    "0(negative) or 1(positive) in the column."
   ]
  },
  {
   "cell_type": "code",
   "execution_count": 6,
   "metadata": {},
   "outputs": [
    {
     "data": {
      "text/html": [
       "<div>\n",
       "<style scoped>\n",
       "    .dataframe tbody tr th:only-of-type {\n",
       "        vertical-align: middle;\n",
       "    }\n",
       "\n",
       "    .dataframe tbody tr th {\n",
       "        vertical-align: top;\n",
       "    }\n",
       "\n",
       "    .dataframe thead th {\n",
       "        text-align: right;\n",
       "    }\n",
       "</style>\n",
       "<table border=\"1\" class=\"dataframe\">\n",
       "  <thead>\n",
       "    <tr style=\"text-align: right;\">\n",
       "      <th></th>\n",
       "      <th>Class</th>\n",
       "      <th>b</th>\n",
       "      <th>o</th>\n",
       "      <th>x</th>\n",
       "      <th>b</th>\n",
       "      <th>o</th>\n",
       "      <th>x</th>\n",
       "      <th>b</th>\n",
       "      <th>o</th>\n",
       "      <th>x</th>\n",
       "      <th>...</th>\n",
       "      <th>x</th>\n",
       "      <th>b</th>\n",
       "      <th>o</th>\n",
       "      <th>x</th>\n",
       "      <th>b</th>\n",
       "      <th>o</th>\n",
       "      <th>x</th>\n",
       "      <th>b</th>\n",
       "      <th>o</th>\n",
       "      <th>x</th>\n",
       "    </tr>\n",
       "  </thead>\n",
       "  <tbody>\n",
       "    <tr>\n",
       "      <td>0</td>\n",
       "      <td>1</td>\n",
       "      <td>0</td>\n",
       "      <td>0</td>\n",
       "      <td>1</td>\n",
       "      <td>0</td>\n",
       "      <td>0</td>\n",
       "      <td>1</td>\n",
       "      <td>0</td>\n",
       "      <td>0</td>\n",
       "      <td>1</td>\n",
       "      <td>...</td>\n",
       "      <td>0</td>\n",
       "      <td>0</td>\n",
       "      <td>0</td>\n",
       "      <td>1</td>\n",
       "      <td>0</td>\n",
       "      <td>1</td>\n",
       "      <td>0</td>\n",
       "      <td>0</td>\n",
       "      <td>1</td>\n",
       "      <td>0</td>\n",
       "    </tr>\n",
       "    <tr>\n",
       "      <td>1</td>\n",
       "      <td>1</td>\n",
       "      <td>0</td>\n",
       "      <td>0</td>\n",
       "      <td>1</td>\n",
       "      <td>0</td>\n",
       "      <td>0</td>\n",
       "      <td>1</td>\n",
       "      <td>0</td>\n",
       "      <td>0</td>\n",
       "      <td>1</td>\n",
       "      <td>...</td>\n",
       "      <td>0</td>\n",
       "      <td>0</td>\n",
       "      <td>1</td>\n",
       "      <td>0</td>\n",
       "      <td>0</td>\n",
       "      <td>0</td>\n",
       "      <td>1</td>\n",
       "      <td>0</td>\n",
       "      <td>1</td>\n",
       "      <td>0</td>\n",
       "    </tr>\n",
       "    <tr>\n",
       "      <td>2</td>\n",
       "      <td>1</td>\n",
       "      <td>0</td>\n",
       "      <td>0</td>\n",
       "      <td>1</td>\n",
       "      <td>0</td>\n",
       "      <td>0</td>\n",
       "      <td>1</td>\n",
       "      <td>0</td>\n",
       "      <td>0</td>\n",
       "      <td>1</td>\n",
       "      <td>...</td>\n",
       "      <td>0</td>\n",
       "      <td>0</td>\n",
       "      <td>1</td>\n",
       "      <td>0</td>\n",
       "      <td>0</td>\n",
       "      <td>1</td>\n",
       "      <td>0</td>\n",
       "      <td>0</td>\n",
       "      <td>0</td>\n",
       "      <td>1</td>\n",
       "    </tr>\n",
       "    <tr>\n",
       "      <td>3</td>\n",
       "      <td>1</td>\n",
       "      <td>0</td>\n",
       "      <td>0</td>\n",
       "      <td>1</td>\n",
       "      <td>0</td>\n",
       "      <td>0</td>\n",
       "      <td>1</td>\n",
       "      <td>0</td>\n",
       "      <td>0</td>\n",
       "      <td>1</td>\n",
       "      <td>...</td>\n",
       "      <td>0</td>\n",
       "      <td>0</td>\n",
       "      <td>1</td>\n",
       "      <td>0</td>\n",
       "      <td>1</td>\n",
       "      <td>0</td>\n",
       "      <td>0</td>\n",
       "      <td>1</td>\n",
       "      <td>0</td>\n",
       "      <td>0</td>\n",
       "    </tr>\n",
       "    <tr>\n",
       "      <td>4</td>\n",
       "      <td>1</td>\n",
       "      <td>0</td>\n",
       "      <td>0</td>\n",
       "      <td>1</td>\n",
       "      <td>0</td>\n",
       "      <td>0</td>\n",
       "      <td>1</td>\n",
       "      <td>0</td>\n",
       "      <td>0</td>\n",
       "      <td>1</td>\n",
       "      <td>...</td>\n",
       "      <td>0</td>\n",
       "      <td>1</td>\n",
       "      <td>0</td>\n",
       "      <td>0</td>\n",
       "      <td>0</td>\n",
       "      <td>1</td>\n",
       "      <td>0</td>\n",
       "      <td>1</td>\n",
       "      <td>0</td>\n",
       "      <td>0</td>\n",
       "    </tr>\n",
       "  </tbody>\n",
       "</table>\n",
       "<p>5 rows × 28 columns</p>\n",
       "</div>"
      ],
      "text/plain": [
       "   Class  b  o  x  b  o  x  b  o  x  ...  x  b  o  x  b  o  x  b  o  x\n",
       "0      1  0  0  1  0  0  1  0  0  1  ...  0  0  0  1  0  1  0  0  1  0\n",
       "1      1  0  0  1  0  0  1  0  0  1  ...  0  0  1  0  0  0  1  0  1  0\n",
       "2      1  0  0  1  0  0  1  0  0  1  ...  0  0  1  0  0  1  0  0  0  1\n",
       "3      1  0  0  1  0  0  1  0  0  1  ...  0  0  1  0  1  0  0  1  0  0\n",
       "4      1  0  0  1  0  0  1  0  0  1  ...  0  1  0  0  0  1  0  1  0  0\n",
       "\n",
       "[5 rows x 28 columns]"
      ]
     },
     "execution_count": 6,
     "metadata": {},
     "output_type": "execute_result"
    }
   ],
   "source": [
    "x_dummy = pd.get_dummies(df['top-left-square'])\n",
    "df = pd.concat([df, x_dummy], axis=1)\n",
    "x1_dummy = pd.get_dummies(df['top-middle-square'])\n",
    "df = pd.concat([df, x1_dummy], axis=1)\n",
    "x2_dummy = pd.get_dummies(df['top-right-square'])\n",
    "df = pd.concat([df, x2_dummy], axis=1)\n",
    "x3_dummy = pd.get_dummies(df['middle-left-square'])\n",
    "df = pd.concat([df, x3_dummy], axis=1)\n",
    "x4_dummy = pd.get_dummies(df['middle-middle-square'])\n",
    "df = pd.concat([df, x4_dummy], axis=1)\n",
    "o_dummy = pd.get_dummies(df['middle-right-square'])\n",
    "df = pd.concat([df, o_dummy], axis=1)\n",
    "o1_dummy = pd.get_dummies(df['bottom-left-square'])\n",
    "df = pd.concat([df, o1_dummy], axis=1)\n",
    "o2_dummy = pd.get_dummies(df['bottom-middle-square'])\n",
    "df = pd.concat([df, o2_dummy], axis=1)\n",
    "o3_dummy = pd.get_dummies(df['bottom-right-square'])\n",
    "df = pd.concat([df, o3_dummy], axis=1)\n",
    "df['Class'] = df['Class'].replace('positive', 1)\n",
    "df['Class'] = df['Class'].replace('negative', 0)\n",
    "\n",
    "df = df.drop(['top-left-square','top-middle-square','top-right-square','middle-left-square','middle-middle-square',\n",
    "          'middle-right-square','bottom-left-square','bottom-middle-square','bottom-right-square',], axis=1)\n",
    "df.head()"
   ]
  },
  {
   "cell_type": "markdown",
   "metadata": {},
   "source": [
    "### 1.2 Stratified sampling\n",
    "Stratified sampling is a method of sampling from a population which can be partitioned\n",
    "into subpopulations. First of all, we can divide the data into two groups based on “Class”\n",
    "not to overlap the data."
   ]
  },
  {
   "cell_type": "code",
   "execution_count": 7,
   "metadata": {},
   "outputs": [
    {
     "data": {
      "text/plain": [
       "1    626\n",
       "0    332\n",
       "Name: Class, dtype: int64"
      ]
     },
     "execution_count": 7,
     "metadata": {},
     "output_type": "execute_result"
    }
   ],
   "source": [
    "df['Class'].value_counts()"
   ]
  },
  {
   "cell_type": "code",
   "execution_count": 8,
   "metadata": {},
   "outputs": [
    {
     "name": "stdout",
     "output_type": "stream",
     "text": [
      "positive ratio = 0.65\n",
      "negative ratio = 0.35\n"
     ]
    }
   ],
   "source": [
    "print('positive ratio =', np.round(626/958,2))\n",
    "print('negative ratio =', np.round(332/958,2))"
   ]
  },
  {
   "cell_type": "markdown",
   "metadata": {},
   "source": [
    "In order to get a training set which has the same Class proportions as the whole data\n",
    "set, we have to choose the number of data like the below: "
   ]
  },
  {
   "cell_type": "code",
   "execution_count": 9,
   "metadata": {},
   "outputs": [
    {
     "name": "stdout",
     "output_type": "stream",
     "text": [
      "#Total: 958 (pos: 626, neg: 332)\n",
      "#Train: 765 (pos: 497, neg: 268)\n",
      "#Test: 193 (pos: 129, neg: 64)\n"
     ]
    }
   ],
   "source": [
    "print('#Total: 958 (pos: 626, neg: 332)')\n",
    "print(f'#Train: {497+268} (pos: {int(766*0.65)}, neg: {int(766*0.35)})')\n",
    "print(f'#Test: {958-765} (pos: {626-497}, neg: {332-268})')\n",
    "pos_df = df[df['Class']==1]\n",
    "neg_df = df[df['Class']==0]"
   ]
  },
  {
   "cell_type": "markdown",
   "metadata": {},
   "source": [
    "Thus, we have to split the positive and the negative sets into the training and test sets\n",
    "respectively."
   ]
  },
  {
   "cell_type": "code",
   "execution_count": 10,
   "metadata": {},
   "outputs": [],
   "source": [
    "def SplitData(df, target, rate):\n",
    "    # Shuffling\n",
    "    df = df.sample(frac=1, random_state=1)\n",
    "\n",
    "    # Split data set\n",
    "    num_train = int(len(df)*rate)\n",
    "    train_set = df[:num_train]\n",
    "    test_set = df[num_train:]\n",
    "\n",
    "    y_train = train_set[target].to_numpy()\n",
    "    x_train = train_set.drop([target], axis=1).to_numpy()\n",
    "    y_test = test_set[target].to_numpy()\n",
    "    x_test = test_set.drop([target], axis=1).to_numpy()\n",
    "    \n",
    "    return x_train, y_train, x_test, y_test"
   ]
  },
  {
   "cell_type": "code",
   "execution_count": 11,
   "metadata": {},
   "outputs": [
    {
     "name": "stdout",
     "output_type": "stream",
     "text": [
      "#total: 958,  #xtrain: (765, 27), #ytrain: (765,), #xtest: (193, 27), #xtest: (193,)\n"
     ]
    }
   ],
   "source": [
    "px_train, py_train, px_test, py_test = SplitData(pos_df, 'Class', 0.8)\n",
    "nx_train, ny_train, nx_test, ny_test = SplitData(neg_df, 'Class', 0.8)\n",
    "x_train = np.concatenate((px_train,nx_train), axis=0)\n",
    "y_train = np.concatenate((py_train,ny_train), axis=0)\n",
    "x_test = np.concatenate((px_test,nx_test), axis=0)\n",
    "y_test = np.concatenate((py_test,ny_test), axis=0)\n",
    "print(f'#total: {len(df)},  #xtrain: {x_train.shape}, #ytrain: {y_train.shape}, #xtest: {x_test.shape}, #xtest: {y_test.shape}')"
   ]
  },
  {
   "cell_type": "markdown",
   "metadata": {},
   "source": [
    "The first line is to split the positive set and the second line is to split the\n",
    "negative set. on the line3 to 6, train and test sets are created by np.concatenate().\n",
    "In other words, the number of training data is 765(626+332) and the number of test data is\n",
    "193(129+64) so that the Class proportions in the training set is the same as the entire\n",
    "data."
   ]
  },
  {
   "cell_type": "markdown",
   "metadata": {},
   "source": [
    "## 2. Logistic Regression"
   ]
  },
  {
   "cell_type": "markdown",
   "metadata": {},
   "source": [
    "### 2.1 Logistic regression with steplength bolddriver"
   ]
  },
  {
   "cell_type": "code",
   "execution_count": 12,
   "metadata": {},
   "outputs": [],
   "source": [
    "def LogLoss(X, y, beta):\n",
    "    l = 0\n",
    "    for n in range(y.shape[1]):\n",
    "        l += y[0,n]*np.dot(X[:,n],beta.T) - np.log(1+np.exp(np.dot(X[:,n],beta.T)))\n",
    "    return l/y.shape[1]\n",
    "\n",
    "def steplength_bolddriver(g, beta, loss, X, y):\n",
    "    mu = 0.01\n",
    "    cond1 = LogLoss(X, y, beta - mu*g)\n",
    "    \n",
    "    while loss - cond1 <= 0:\n",
    "        mu *= 0.1\n",
    "        cond1 = LogLoss(X, y, beta - mu*g)  \n",
    "    \n",
    "    return mu\n",
    "\n",
    "def learn_logreg_GA(x_train, y_train, x_test, y_test, t_max, tolerance):\n",
    "    X = x_train.T\n",
    "    y = y_train.T.reshape((1,-1))  \n",
    "    Xtest = x_test.T\n",
    "    Ytest = y_test.reshape((1,-1))\n",
    "    beta = np.zeros((1,len(X)))\n",
    "    g = np.zeros((1,len(X)))\n",
    "    l = LogLoss(X, y, beta)\n",
    "    \n",
    "    loss_diff = []\n",
    "    log_loss = []\n",
    "    \n",
    "    for i in range(t_max):\n",
    "        y_pred = 1/(1+np.exp(-np.matmul(beta,X)))\n",
    "        \n",
    "        g = np.matmul((y-y_pred),X.T)/y.shape[1]\n",
    "\n",
    "        beta += steplength_bolddriver(g, beta, l, X, y)*g\n",
    "        l_old = l\n",
    "        log_loss.append(LogLoss(Xtest, Ytest, beta))\n",
    "        l = LogLoss(X, y, beta)\n",
    "        \n",
    "        cond = np.abs(l-l_old)\n",
    "        loss_diff.append(cond)\n",
    "        \n",
    "        if cond < tolerance:\n",
    "            return beta, loss_diff, log_loss"
   ]
  },
  {
   "cell_type": "code",
   "execution_count": 13,
   "metadata": {},
   "outputs": [],
   "source": [
    "beta1, loss_diff1, log_loss1 = learn_logreg_GA(x_train, y_train, x_test, y_test, 500, .0001)"
   ]
  },
  {
   "cell_type": "code",
   "execution_count": 14,
   "metadata": {},
   "outputs": [
    {
     "data": {
      "text/plain": [
       "Text(0.5, 1.0, 'Log Loss(test set)')"
      ]
     },
     "execution_count": 14,
     "metadata": {},
     "output_type": "execute_result"
    },
    {
     "data": {
      "image/png": "[encoded data removed]",
      "text/plain": [
       "<Figure size 720x720 with 2 Axes>"
      ]
     },
     "metadata": {
      "needs_background": "light"
     },
     "output_type": "display_data"
    }
   ],
   "source": [
    "f = plt.figure(figsize=(10,10))\n",
    "plt.subplot(321)\n",
    "plt.plot(loss_diff1, 'r')\n",
    "plt.title(\"|f_(i-1)-f_i|(training data)\")\n",
    "plt.subplot(322)\n",
    "plt.plot(log_loss1, 'r')\n",
    "plt.title(\"Log Loss(test set)\")"
   ]
  },
  {
   "cell_type": "markdown",
   "metadata": {},
   "source": [
    "|f_(i-1)-f_i| and Log loss shows that the model is well trained. The reason why the graph\n",
    "of the Log loss goes up is that the optimization of Log loss is a maximum likelihood\n",
    "problem. That is, the graph shows the training is working well because the loss is going to\n",
    "0."
   ]
  },
  {
   "cell_type": "markdown",
   "metadata": {},
   "source": [
    "### 2.2 Logistic regression with Newton method"
   ]
  },
  {
   "cell_type": "code",
   "execution_count": 15,
   "metadata": {},
   "outputs": [],
   "source": [
    "def min_loglikelihood(X, y, beta):\n",
    "    l = 0\n",
    "    for n in range(len(y)):\n",
    "        l += y[n]*np.dot(X[n,:],beta) - np.log(1+np.exp(np.dot(X[n,:],beta)))\n",
    "    \n",
    "    return -l/len(y) \n",
    "\n",
    "def learn_logreg_Newton(X, y, x_test, y_test, mu, t_max, tolerance):\n",
    "    beta = np.zeros(X.shape[1])\n",
    "    loss = min_loglikelihood(X, y, beta)\n",
    "    y_pred = 1/(1+np.exp(-np.dot(X,beta)))\n",
    "    \n",
    "    loss_diff = []\n",
    "    log_loss = []            \n",
    "    for t in range(t_max):\n",
    "                \n",
    "        g = np.matmul(X.T, (y-y_pred))/len(y)\n",
    "        v = y_pred*(1-y_pred)       \n",
    "        W = np.diag(v)\n",
    "        H = np.matmul(np.matmul(X.T,W),X)/len(y)\n",
    "                         \n",
    "        beta += mu*np.matmul(np.linalg.inv(H),g)               \n",
    "        \n",
    "        y_pred = 1/(1+np.exp(-np.dot(X,beta)))  \n",
    "        l_old = loss\n",
    "        log_loss.append(min_loglikelihood(x_test, y_test, beta))\n",
    "        loss = min_loglikelihood(X, y, beta)\n",
    "        \n",
    "        cond = np.abs(loss-l_old)\n",
    "        loss_diff.append(cond)\n",
    "        \n",
    "        if cond < tolerance:\n",
    "            return beta, loss_diff, log_loss"
   ]
  },
  {
   "cell_type": "code",
   "execution_count": 16,
   "metadata": {},
   "outputs": [],
   "source": [
    "beta2, loss_diff2, log_loss2 = learn_logreg_Newton(x_train, y_train,  x_test, y_test, 0.004, 1000, .0001)"
   ]
  },
  {
   "cell_type": "code",
   "execution_count": 17,
   "metadata": {},
   "outputs": [
    {
     "data": {
      "text/plain": [
       "Text(0.5, 1.0, 'Log Loss(test set)')"
      ]
     },
     "execution_count": 17,
     "metadata": {},
     "output_type": "execute_result"
    },
    {
     "data": {
      "image/png": "[encoded data removed]",
      "text/plain": [
       "<Figure size 720x720 with 2 Axes>"
      ]
     },
     "metadata": {
      "needs_background": "light"
     },
     "output_type": "display_data"
    }
   ],
   "source": [
    "f = plt.figure(figsize=(10,10))\n",
    "plt.subplot(321)\n",
    "plt.plot(loss_diff2, 'r')\n",
    "plt.title(\"|f_(i-1)-f_i|(training data)\")\n",
    "plt.subplot(322)\n",
    "plt.plot(log_loss2, 'r')\n",
    "plt.title(\"Log Loss(test set)\")"
   ]
  },
  {
   "cell_type": "markdown",
   "metadata": {},
   "source": [
    "|f_(i-1)-f_i| and Log loss shows the slight fluctuation depending on step length. The Log Loss is dropped because I considered minimum likelihood(i.e. -LogLoss). Therefore, we can say the newton algorithm is working well."
   ]
  },
  {
   "cell_type": "markdown",
   "metadata": {},
   "source": [
    "### 2.3 Comparison with the two algorithms\n",
    "According to the results, the Newton method(loss:0.4866, iterations:59) converges to a loss value much faster than the steplength bolddriver(loss: -0.5846, iterations:384)."
   ]
  },
  {
   "cell_type": "code",
   "execution_count": null,
   "metadata": {},
   "outputs": [],
   "source": []
  }
 ],
 "metadata": {
  "kernelspec": {
   "display_name": "Python 3",
   "language": "python",
   "name": "python3"
  },
  "language_info": {
   "codemirror_mode": {
    "name": "ipython",
    "version": 3
   },
   "file_extension": ".py",
   "mimetype": "text/x-python",
   "name": "python",
   "nbconvert_exporter": "python",
   "pygments_lexer": "ipython3",
   "version": "3.7.4"
  }
 },
 "nbformat": 4,
 "nbformat_minor": 2
}
