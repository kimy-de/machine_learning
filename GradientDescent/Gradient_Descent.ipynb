{
 "cells": [
  {
   "cell_type": "code",
   "execution_count": 1,
   "metadata": {},
   "outputs": [],
   "source": [
    "%matplotlib inline\n",
    "import numpy as np\n",
    "import pandas as pd\n",
    "import matplotlib.pyplot as plt"
   ]
  },
  {
   "cell_type": "markdown",
   "metadata": {},
   "source": [
    "# 0. Introduction\n",
    "### This notebook introduces gradient descent with several step size functions(learning rate)."
   ]
  },
  {
   "cell_type": "markdown",
   "metadata": {},
   "source": [
    "## 1 Data preprocessing"
   ]
  },
  {
   "cell_type": "markdown",
   "metadata": {},
   "source": [
    "### Parkisons Dataset:"
   ]
  },
  {
   "cell_type": "code",
   "execution_count": 2,
   "metadata": {},
   "outputs": [],
   "source": [
    "# parkinsons_updrs.data\n",
    "# https://archive.ics.uci.edu/ml/datasets/parkinsons+telemonitoring\n",
    "parkinsons_df = pd.read_csv('./parkinsons_updrs.data')"
   ]
  },
  {
   "cell_type": "code",
   "execution_count": 3,
   "metadata": {},
   "outputs": [
    {
     "name": "stdout",
     "output_type": "stream",
     "text": [
      "<class 'pandas.core.frame.DataFrame'>\n",
      "RangeIndex: 5875 entries, 0 to 5874\n",
      "Data columns (total 22 columns):\n",
      "subject#         5875 non-null int64\n",
      "age              5875 non-null int64\n",
      "sex              5875 non-null int64\n",
      "test_time        5875 non-null float64\n",
      "motor_UPDRS      5875 non-null float64\n",
      "total_UPDRS      5875 non-null float64\n",
      "Jitter(%)        5875 non-null float64\n",
      "Jitter(Abs)      5875 non-null float64\n",
      "Jitter:RAP       5875 non-null float64\n",
      "Jitter:PPQ5      5875 non-null float64\n",
      "Jitter:DDP       5875 non-null float64\n",
      "Shimmer          5875 non-null float64\n",
      "Shimmer(dB)      5875 non-null float64\n",
      "Shimmer:APQ3     5875 non-null float64\n",
      "Shimmer:APQ5     5875 non-null float64\n",
      "Shimmer:APQ11    5875 non-null float64\n",
      "Shimmer:DDA      5875 non-null float64\n",
      "NHR              5875 non-null float64\n",
      "HNR              5875 non-null float64\n",
      "RPDE             5875 non-null float64\n",
      "DFA              5875 non-null float64\n",
      "PPE              5875 non-null float64\n",
      "dtypes: float64(19), int64(3)\n",
      "memory usage: 1009.9 KB\n"
     ]
    }
   ],
   "source": [
    "parkinsons_df.info()"
   ]
  },
  {
   "cell_type": "code",
   "execution_count": 4,
   "metadata": {},
   "outputs": [
    {
     "data": {
      "text/html": [
       "<div>\n",
       "<style scoped>\n",
       "    .dataframe tbody tr th:only-of-type {\n",
       "        vertical-align: middle;\n",
       "    }\n",
       "\n",
       "    .dataframe tbody tr th {\n",
       "        vertical-align: top;\n",
       "    }\n",
       "\n",
       "    .dataframe thead th {\n",
       "        text-align: right;\n",
       "    }\n",
       "</style>\n",
       "<table border=\"1\" class=\"dataframe\">\n",
       "  <thead>\n",
       "    <tr style=\"text-align: right;\">\n",
       "      <th></th>\n",
       "      <th>subject#</th>\n",
       "      <th>age</th>\n",
       "      <th>sex</th>\n",
       "      <th>test_time</th>\n",
       "      <th>motor_UPDRS</th>\n",
       "      <th>total_UPDRS</th>\n",
       "      <th>Jitter(%)</th>\n",
       "      <th>Jitter(Abs)</th>\n",
       "      <th>Jitter:RAP</th>\n",
       "      <th>Jitter:PPQ5</th>\n",
       "      <th>...</th>\n",
       "      <th>Shimmer(dB)</th>\n",
       "      <th>Shimmer:APQ3</th>\n",
       "      <th>Shimmer:APQ5</th>\n",
       "      <th>Shimmer:APQ11</th>\n",
       "      <th>Shimmer:DDA</th>\n",
       "      <th>NHR</th>\n",
       "      <th>HNR</th>\n",
       "      <th>RPDE</th>\n",
       "      <th>DFA</th>\n",
       "      <th>PPE</th>\n",
       "    </tr>\n",
       "  </thead>\n",
       "  <tbody>\n",
       "    <tr>\n",
       "      <td>0</td>\n",
       "      <td>1</td>\n",
       "      <td>72</td>\n",
       "      <td>0</td>\n",
       "      <td>5.6431</td>\n",
       "      <td>28.199</td>\n",
       "      <td>34.398</td>\n",
       "      <td>0.00662</td>\n",
       "      <td>0.000034</td>\n",
       "      <td>0.00401</td>\n",
       "      <td>0.00317</td>\n",
       "      <td>...</td>\n",
       "      <td>0.230</td>\n",
       "      <td>0.01438</td>\n",
       "      <td>0.01309</td>\n",
       "      <td>0.01662</td>\n",
       "      <td>0.04314</td>\n",
       "      <td>0.014290</td>\n",
       "      <td>21.640</td>\n",
       "      <td>0.41888</td>\n",
       "      <td>0.54842</td>\n",
       "      <td>0.16006</td>\n",
       "    </tr>\n",
       "    <tr>\n",
       "      <td>1</td>\n",
       "      <td>1</td>\n",
       "      <td>72</td>\n",
       "      <td>0</td>\n",
       "      <td>12.6660</td>\n",
       "      <td>28.447</td>\n",
       "      <td>34.894</td>\n",
       "      <td>0.00300</td>\n",
       "      <td>0.000017</td>\n",
       "      <td>0.00132</td>\n",
       "      <td>0.00150</td>\n",
       "      <td>...</td>\n",
       "      <td>0.179</td>\n",
       "      <td>0.00994</td>\n",
       "      <td>0.01072</td>\n",
       "      <td>0.01689</td>\n",
       "      <td>0.02982</td>\n",
       "      <td>0.011112</td>\n",
       "      <td>27.183</td>\n",
       "      <td>0.43493</td>\n",
       "      <td>0.56477</td>\n",
       "      <td>0.10810</td>\n",
       "    </tr>\n",
       "    <tr>\n",
       "      <td>2</td>\n",
       "      <td>1</td>\n",
       "      <td>72</td>\n",
       "      <td>0</td>\n",
       "      <td>19.6810</td>\n",
       "      <td>28.695</td>\n",
       "      <td>35.389</td>\n",
       "      <td>0.00481</td>\n",
       "      <td>0.000025</td>\n",
       "      <td>0.00205</td>\n",
       "      <td>0.00208</td>\n",
       "      <td>...</td>\n",
       "      <td>0.181</td>\n",
       "      <td>0.00734</td>\n",
       "      <td>0.00844</td>\n",
       "      <td>0.01458</td>\n",
       "      <td>0.02202</td>\n",
       "      <td>0.020220</td>\n",
       "      <td>23.047</td>\n",
       "      <td>0.46222</td>\n",
       "      <td>0.54405</td>\n",
       "      <td>0.21014</td>\n",
       "    </tr>\n",
       "    <tr>\n",
       "      <td>3</td>\n",
       "      <td>1</td>\n",
       "      <td>72</td>\n",
       "      <td>0</td>\n",
       "      <td>25.6470</td>\n",
       "      <td>28.905</td>\n",
       "      <td>35.810</td>\n",
       "      <td>0.00528</td>\n",
       "      <td>0.000027</td>\n",
       "      <td>0.00191</td>\n",
       "      <td>0.00264</td>\n",
       "      <td>...</td>\n",
       "      <td>0.327</td>\n",
       "      <td>0.01106</td>\n",
       "      <td>0.01265</td>\n",
       "      <td>0.01963</td>\n",
       "      <td>0.03317</td>\n",
       "      <td>0.027837</td>\n",
       "      <td>24.445</td>\n",
       "      <td>0.48730</td>\n",
       "      <td>0.57794</td>\n",
       "      <td>0.33277</td>\n",
       "    </tr>\n",
       "    <tr>\n",
       "      <td>4</td>\n",
       "      <td>1</td>\n",
       "      <td>72</td>\n",
       "      <td>0</td>\n",
       "      <td>33.6420</td>\n",
       "      <td>29.187</td>\n",
       "      <td>36.375</td>\n",
       "      <td>0.00335</td>\n",
       "      <td>0.000020</td>\n",
       "      <td>0.00093</td>\n",
       "      <td>0.00130</td>\n",
       "      <td>...</td>\n",
       "      <td>0.176</td>\n",
       "      <td>0.00679</td>\n",
       "      <td>0.00929</td>\n",
       "      <td>0.01819</td>\n",
       "      <td>0.02036</td>\n",
       "      <td>0.011625</td>\n",
       "      <td>26.126</td>\n",
       "      <td>0.47188</td>\n",
       "      <td>0.56122</td>\n",
       "      <td>0.19361</td>\n",
       "    </tr>\n",
       "  </tbody>\n",
       "</table>\n",
       "<p>5 rows × 22 columns</p>\n",
       "</div>"
      ],
      "text/plain": [
       "   subject#  age  sex  test_time  motor_UPDRS  total_UPDRS  Jitter(%)  \\\n",
       "0         1   72    0     5.6431       28.199       34.398    0.00662   \n",
       "1         1   72    0    12.6660       28.447       34.894    0.00300   \n",
       "2         1   72    0    19.6810       28.695       35.389    0.00481   \n",
       "3         1   72    0    25.6470       28.905       35.810    0.00528   \n",
       "4         1   72    0    33.6420       29.187       36.375    0.00335   \n",
       "\n",
       "   Jitter(Abs)  Jitter:RAP  Jitter:PPQ5  ...  Shimmer(dB)  Shimmer:APQ3  \\\n",
       "0     0.000034     0.00401      0.00317  ...        0.230       0.01438   \n",
       "1     0.000017     0.00132      0.00150  ...        0.179       0.00994   \n",
       "2     0.000025     0.00205      0.00208  ...        0.181       0.00734   \n",
       "3     0.000027     0.00191      0.00264  ...        0.327       0.01106   \n",
       "4     0.000020     0.00093      0.00130  ...        0.176       0.00679   \n",
       "\n",
       "   Shimmer:APQ5  Shimmer:APQ11  Shimmer:DDA       NHR     HNR     RPDE  \\\n",
       "0       0.01309        0.01662      0.04314  0.014290  21.640  0.41888   \n",
       "1       0.01072        0.01689      0.02982  0.011112  27.183  0.43493   \n",
       "2       0.00844        0.01458      0.02202  0.020220  23.047  0.46222   \n",
       "3       0.01265        0.01963      0.03317  0.027837  24.445  0.48730   \n",
       "4       0.00929        0.01819      0.02036  0.011625  26.126  0.47188   \n",
       "\n",
       "       DFA      PPE  \n",
       "0  0.54842  0.16006  \n",
       "1  0.56477  0.10810  \n",
       "2  0.54405  0.21014  \n",
       "3  0.57794  0.33277  \n",
       "4  0.56122  0.19361  \n",
       "\n",
       "[5 rows x 22 columns]"
      ]
     },
     "execution_count": 4,
     "metadata": {},
     "output_type": "execute_result"
    }
   ],
   "source": [
    "parkinsons_df.head()"
   ]
  },
  {
   "cell_type": "code",
   "execution_count": 5,
   "metadata": {},
   "outputs": [
    {
     "data": {
      "text/plain": [
       "total_UPDRS    1.000000\n",
       "motor_UPDRS    0.947231\n",
       "age            0.310290\n",
       "Name: total_UPDRS, dtype: float64"
      ]
     },
     "execution_count": 5,
     "metadata": {},
     "output_type": "execute_result"
    }
   ],
   "source": [
    "corr = parkinsons_df.corr()[\"total_UPDRS\"].abs().sort_values(ascending=False) \n",
    "corr[corr > 0.30]"
   ]
  },
  {
   "cell_type": "code",
   "execution_count": 6,
   "metadata": {},
   "outputs": [],
   "source": [
    "cols = ['motor_UPDRS','age','total_UPDRS']\n",
    "parkinsons_df = parkinsons_df[cols]"
   ]
  },
  {
   "cell_type": "code",
   "execution_count": 7,
   "metadata": {},
   "outputs": [],
   "source": [
    "def SplitData(df, target):\n",
    "    # Shuffling\n",
    "    df = df.sample(frac=1)\n",
    "\n",
    "    # Split data set into train(80%) and test(20%) sets\n",
    "    num_train = int(len(df)*0.8)\n",
    "    train_set = df[:num_train]\n",
    "    test_set = df[num_train:]\n",
    "\n",
    "    y_train = train_set[target].to_numpy()\n",
    "    x_train = train_set.drop([target], axis=1).to_numpy()\n",
    "    y_test = test_set[target].to_numpy()\n",
    "    x_test = test_set.drop([target], axis=1).to_numpy()\n",
    "    \n",
    "    print(f'#total: {len(df)},  #xtrain: {x_train.shape}, #ytrain: {y_train.shape}, #xtest: {x_test.shape}, #xtest: {y_test.shape}')\n",
    "    return x_train, y_train, x_test, y_test"
   ]
  },
  {
   "cell_type": "code",
   "execution_count": 8,
   "metadata": {},
   "outputs": [
    {
     "name": "stdout",
     "output_type": "stream",
     "text": [
      "#total: 5875,  #xtrain: (4700, 2), #ytrain: (4700,), #xtest: (1175, 2), #xtest: (1175,)\n"
     ]
    }
   ],
   "source": [
    "# parkinsons_df\n",
    "px_train, py_train, px_test, py_test = SplitData(parkinsons_df, \"total_UPDRS\")"
   ]
  },
  {
   "cell_type": "markdown",
   "metadata": {},
   "source": [
    "## 2. Linear Regression with Gradient Descent"
   ]
  },
  {
   "cell_type": "markdown",
   "metadata": {},
   "source": [
    "### 2.1 Using Fixed Step length"
   ]
  },
  {
   "cell_type": "code",
   "execution_count": 9,
   "metadata": {},
   "outputs": [],
   "source": [
    "def MSE(X, y, beta):\n",
    "    diff = np.dot(X,beta)-y \n",
    "    loss = np.sum(diff**2) / (2*X.shape[0])\n",
    "    return diff, loss\n",
    "\n",
    "def RMSE(y_pred, y):\n",
    "    RMSE = np.sqrt(np.sum((y_pred-y)**2)/len(y))\n",
    "    return RMSE\n",
    "    \n",
    "def minimize_GD(X, y, Xtest, Ytest, beta, iterations, tolerance):\n",
    "\n",
    "    Loss =[0]\n",
    "    Diff =[]\n",
    "    RMSE_list = []\n",
    "    for i in range(iterations):\n",
    "        diff, loss = MSE(X, y, beta)\n",
    "        gradient = np.dot(X.T, diff) / X.shape[0]\n",
    "        beta = beta - 1e-5 * gradient\n",
    "        RMSE_list.append(RMSE(np.matmul(Xtest, beta), Ytest))\n",
    "        Loss.append(loss)\n",
    "        Diff.append(abs(Loss[i]-Loss[i+1]))\n",
    "        if Diff[i] < tolerance:\n",
    "            break\n",
    "        loss_old = loss\n",
    "        \n",
    "    #print('MSE on train set:', loss)\n",
    "    \n",
    "    return beta, Diff, RMSE_list\n",
    "    \n",
    "def learn_linreg_GD(X, y, Xtest, Ytest, iterations, tolerance):\n",
    "    \n",
    "    # Initial values\n",
    "    beta0 = np.zeros(X.shape[1])\n",
    "    beta, diff, RMSE_list = minimize_GD(X, y, Xtest, Ytest, beta0, iterations, tolerance)\n",
    "    \n",
    "    return beta, diff, RMSE_list\n",
    "\n",
    "\n"
   ]
  },
  {
   "cell_type": "code",
   "execution_count": 10,
   "metadata": {},
   "outputs": [],
   "source": [
    "pbeta, pdiff, RMSE_p_fx = learn_linreg_GD(px_train, py_train, px_test, py_test, 100, .001)"
   ]
  },
  {
   "cell_type": "code",
   "execution_count": 11,
   "metadata": {},
   "outputs": [
    {
     "data": {
      "text/plain": [
       "Text(0.5, 1.0, 'RMSE(test parkinsons set)')"
      ]
     },
     "execution_count": 11,
     "metadata": {},
     "output_type": "execute_result"
    },
    {
     "data": {
      "image/png": "[encoded data removed]",
      "text/plain": [
       "<Figure size 720x360 with 2 Axes>"
      ]
     },
     "metadata": {
      "needs_background": "light"
     },
     "output_type": "display_data"
    }
   ],
   "source": [
    "f = plt.figure(figsize=(10,5))\n",
    "plt.subplot(121)\n",
    "plt.plot(pdiff, 'b')\n",
    "plt.title(\"|f_(i-1)-f_i|(training parkinsons set)\")\n",
    "plt.subplot(122)\n",
    "plt.plot(RMSE_p_fx, 'b')\n",
    "plt.title(\"RMSE(test parkinsons set)\")"
   ]
  },
  {
   "cell_type": "markdown",
   "metadata": {},
   "source": [
    "### 2.2 Using stepsize_backtracking"
   ]
  },
  {
   "cell_type": "code",
   "execution_count": 12,
   "metadata": {},
   "outputs": [],
   "source": [
    "def stepsize_backtracking(g, beta, loss, X, y):\n",
    "    mu = 1\n",
    "    alpha = 0.5\n",
    "    beta = 0.65\n",
    "    _, cond1 = MSE(X, y, beta - mu*g)\n",
    "    while cond1  > loss - alpha*mu*np.dot(g.T,g):\n",
    "        mu *= beta \n",
    "        _, cond1 = MSE(X, y, beta - mu*g)\n",
    "       \n",
    "    return mu\n",
    "    \n",
    "def minimize_GD(X, y, Xtest, Ytest, beta, iterations, tolerance):\n",
    "\n",
    "    Loss =[0]\n",
    "    Diff =[]\n",
    "    RMSE_list = []\n",
    "    for i in range(iterations):\n",
    "        diff, loss = MSE(X, y, beta)\n",
    "        gradient = np.dot(X.T, diff) / X.shape[0]\n",
    "        beta = beta - stepsize_backtracking(gradient, beta, loss, X, y) * gradient\n",
    "        RMSE_list.append(RMSE(np.matmul(Xtest, beta), Ytest))\n",
    "        Loss.append(loss)\n",
    "        Diff.append(abs(Loss[i]-Loss[i+1]))\n",
    "        if Diff[i] < tolerance:\n",
    "            break\n",
    "        loss_old = loss\n",
    "        \n",
    "    #print('MSE on train set:', loss)\n",
    "    \n",
    "    return beta, Diff, RMSE_list"
   ]
  },
  {
   "cell_type": "code",
   "execution_count": 13,
   "metadata": {},
   "outputs": [],
   "source": [
    "pbeta, pdiff, RMSE_p_bt = learn_linreg_GD(px_train, py_train, px_test, py_test, 100, .001)"
   ]
  },
  {
   "cell_type": "code",
   "execution_count": 14,
   "metadata": {},
   "outputs": [
    {
     "data": {
      "text/plain": [
       "Text(0.5, 1.0, 'RMSE(test parkinsons set)')"
      ]
     },
     "execution_count": 14,
     "metadata": {},
     "output_type": "execute_result"
    },
    {
     "data": {
      "image/png": "[encoded data removed]",
      "text/plain": [
       "<Figure size 720x360 with 2 Axes>"
      ]
     },
     "metadata": {
      "needs_background": "light"
     },
     "output_type": "display_data"
    }
   ],
   "source": [
    "f = plt.figure(figsize=(10,5))\n",
    "plt.subplot(121)\n",
    "plt.plot(pdiff, 'g')\n",
    "plt.title(\"|f_(i-1)-f_i|(training parkinsons set)\")\n",
    "plt.subplot(122)\n",
    "plt.plot(RMSE_p_bt, 'g')\n",
    "plt.title(\"RMSE(test parkinsons set)\")"
   ]
  },
  {
   "cell_type": "markdown",
   "metadata": {},
   "source": [
    "### 2.3 Using steplength_bolddriver"
   ]
  },
  {
   "cell_type": "code",
   "execution_count": 15,
   "metadata": {},
   "outputs": [],
   "source": [
    "def steplength_bolddriver(g, beta, loss, X, y):\n",
    "    mu = 1\n",
    "    _, cond1 = MSE(X, y, beta - mu*g)\n",
    "    \n",
    "    while loss - cond1 <= 0:\n",
    "        mu *= 0.5\n",
    "        _, cond1 = MSE(X, y, beta - mu*g)\n",
    "       \n",
    "    return mu\n",
    "    \n",
    "def minimize_GD(X, y, Xtest, Ytest, beta, iterations, tolerance):\n",
    "\n",
    "    Loss =[0]\n",
    "    Diff =[]\n",
    "    RMSE_list = []\n",
    "    for i in range(iterations):\n",
    "        diff, loss = MSE(X, y, beta)\n",
    "        gradient = np.dot(X.T, diff) / X.shape[0]\n",
    "        beta = beta - steplength_bolddriver(gradient, beta, loss, X, y) * gradient\n",
    "        RMSE_list.append(RMSE(np.matmul(Xtest, beta), Ytest))\n",
    "        Loss.append(loss)\n",
    "        Diff.append(abs(Loss[i]-Loss[i+1]))\n",
    "        if Diff[i] < tolerance:\n",
    "            break\n",
    "        loss_old = loss\n",
    "        \n",
    "    #print('MSE on train set:', loss)\n",
    "    \n",
    "    return beta, Diff, RMSE_list"
   ]
  },
  {
   "cell_type": "code",
   "execution_count": 16,
   "metadata": {},
   "outputs": [],
   "source": [
    "pbeta, pdiff, RMSE_p_bo = learn_linreg_GD(px_train, py_train, px_test, py_test, 100, .001)"
   ]
  },
  {
   "cell_type": "code",
   "execution_count": 17,
   "metadata": {},
   "outputs": [
    {
     "data": {
      "text/plain": [
       "Text(0.5, 1.0, 'RMSE(test parkinsons set)')"
      ]
     },
     "execution_count": 17,
     "metadata": {},
     "output_type": "execute_result"
    },
    {
     "data": {
      "image/png": "[encoded data removed]",
      "text/plain": [
       "<Figure size 720x360 with 2 Axes>"
      ]
     },
     "metadata": {
      "needs_background": "light"
     },
     "output_type": "display_data"
    }
   ],
   "source": [
    "f = plt.figure(figsize=(10,5))\n",
    "plt.subplot(121)\n",
    "plt.plot(pdiff, 'r')\n",
    "plt.title(\"|f_(i-1)-f_i|(training parkinsons set)\")\n",
    "plt.subplot(122)\n",
    "plt.plot(RMSE_p_bo, 'r')\n",
    "plt.title(\"RMSE(test parkinsons set)\")"
   ]
  },
  {
   "cell_type": "code",
   "execution_count": 18,
   "metadata": {},
   "outputs": [
    {
     "data": {
      "text/plain": [
       "<matplotlib.legend.Legend at 0x116229390>"
      ]
     },
     "execution_count": 18,
     "metadata": {},
     "output_type": "execute_result"
    },
    {
     "data": {
      "image/png": "[encoded data removed]",
      "text/plain": [
       "<Figure size 360x360 with 1 Axes>"
      ]
     },
     "metadata": {
      "needs_background": "light"
     },
     "output_type": "display_data"
    }
   ],
   "source": [
    "f = plt.figure(figsize=(5,5))\n",
    "plt.plot(RMSE_p_bo, 'r')\n",
    "plt.plot(RMSE_p_fx, 'b')\n",
    "plt.plot(RMSE_p_bt, 'g')\n",
    "plt.xlabel('iteration')\n",
    "plt.ylabel('loss')\n",
    "plt.title('RMSE')\n",
    "plt.legend(['bolddriver','fixed','backtracking'])"
   ]
  },
  {
   "cell_type": "code",
   "execution_count": null,
   "metadata": {},
   "outputs": [],
   "source": []
  }
 ],
 "metadata": {
  "kernelspec": {
   "display_name": "Python 3",
   "language": "python",
   "name": "python3"
  },
  "language_info": {
   "codemirror_mode": {
    "name": "ipython",
    "version": 3
   },
   "file_extension": ".py",
   "mimetype": "text/x-python",
   "name": "python",
   "nbconvert_exporter": "python",
   "pygments_lexer": "ipython3",
   "version": "3.7.4"
  }
 },
 "nbformat": 4,
 "nbformat_minor": 2
}
